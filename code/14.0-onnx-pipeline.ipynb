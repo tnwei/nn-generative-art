{
 "cells": [
  {
   "cell_type": "markdown",
   "id": "7c0373bd-49e9-4328-947d-b2c28c6a50b6",
   "metadata": {},
   "source": [
    "# Figuring out ONNX inference pipeline"
   ]
  },
  {
   "cell_type": "markdown",
   "id": "d6a97181-8a44-466f-87c3-e644e096c8ef",
   "metadata": {},
   "source": [
    "Looked into this before briefly, doing a more in-depth exploration to ensure that the pieces fit together correctly."
   ]
  },
  {
   "cell_type": "code",
   "execution_count": 2,
   "id": "e1dc41a5-6c24-4469-b18c-a81489fdcb36",
   "metadata": {},
   "outputs": [],
   "source": [
    "from PIL import Image"
   ]
  },
  {
   "cell_type": "markdown",
   "id": "ddde8913-831c-4a12-94e8-09344e4906eb",
   "metadata": {},
   "source": [
    "## Generating the model"
   ]
  },
  {
   "cell_type": "code",
   "execution_count": 2,
   "id": "62fd9e01-d881-4878-96a8-5436a777a22e",
   "metadata": {},
   "outputs": [],
   "source": [
    "from art import Net, create_input\n",
    "import numpy as np\n",
    "import torch\n",
    "import torch.onnx\n",
    "import onnx\n",
    "import onnxruntime"
   ]
  },
  {
   "cell_type": "code",
   "execution_count": 3,
   "id": "f7f1bc46-a915-4ab1-b817-ffdb025b54c8",
   "metadata": {},
   "outputs": [],
   "source": [
    "# Keep track of all parameters here\n",
    "latent_len = 3\n",
    "XDIM = 160\n",
    "YDIM = 90\n",
    "input_config = {\n",
    "    \"img_width\": XDIM,\n",
    "    \"img_height\": YDIM,\n",
    "    \"xs_start\": -1,\n",
    "    \"xs_stop\": 0,\n",
    "    \"ys_start\": -1,\n",
    "    \"ys_stop\": 0,\n",
    "}"
   ]
  },
  {
   "cell_type": "code",
   "execution_count": 4,
   "id": "a56d1251-f4a3-423f-a9c6-946f922d84ab",
   "metadata": {},
   "outputs": [],
   "source": [
    "# Init net\n",
    "net = Net(num_hidden_layers=2, num_neurons=64, latent_len=latent_len)"
   ]
  },
  {
   "cell_type": "code",
   "execution_count": 5,
   "id": "9dad5dbb-b9e5-45da-a6b6-e67df14da44d",
   "metadata": {},
   "outputs": [],
   "source": [
    "# Create input examples for torch tracing for compilation to ONNX\n",
    "net_input = torch.FloatTensor(create_input(**input_config))\n",
    "latent_vec = np.random.normal(size=(latent_len,))\n",
    "latent_vec = np.expand_dims(latent_vec, axis=0)\n",
    "latent_vec = np.repeat(latent_vec, repeats=net_input.shape[0], axis=0)\n",
    "latent_vec = torch.FloatTensor(latent_vec)"
   ]
  },
  {
   "cell_type": "code",
   "execution_count": 7,
   "id": "0e6571da-f348-4367-83f6-6d70074f8596",
   "metadata": {},
   "outputs": [],
   "source": [
    "torch.onnx.export(\n",
    "    net,\n",
    "    (net_input, latent_vec),\n",
    "    \"../assets/test-onnx-model.onnx\",\n",
    "    export_params=True,\n",
    "    opset_version=10,\n",
    "    do_constant_folding=True,\n",
    "    input_names=[\"spatial-input\", \"latent-vec\"],\n",
    "    output_names=[\"output-rgb\"],\n",
    ")"
   ]
  },
  {
   "cell_type": "markdown",
   "id": "50244d04-e5d2-424a-bcf1-f5b43360cebf",
   "metadata": {},
   "source": [
    "## Inference"
   ]
  },
  {
   "cell_type": "markdown",
   "id": "4f997af0-20dd-407d-b505-449049a433e3",
   "metadata": {},
   "source": [
    "Code in this section should be able to run standalone w/o torch."
   ]
  },
  {
   "cell_type": "code",
   "execution_count": 9,
   "id": "3936452d-2b01-4d86-9279-6b54d244119f",
   "metadata": {},
   "outputs": [],
   "source": [
    "import onnx\n",
    "import onnxruntime\n",
    "import numpy as np\n",
    "from art import create_input"
   ]
  },
  {
   "cell_type": "code",
   "execution_count": 4,
   "id": "8430cf9c-c448-4121-a0af-b474e793f5f3",
   "metadata": {},
   "outputs": [],
   "source": [
    "# Verify ONNX is valid\n",
    "onnx_model = onnx.load(\"../assets/test-onnx-model.onnx\",)\n",
    "onnx.checker.check_model(onnx_model)"
   ]
  },
  {
   "cell_type": "code",
   "execution_count": 5,
   "id": "a347346a-56c8-481a-84c3-367f24ed886f",
   "metadata": {},
   "outputs": [],
   "source": [
    "# Verify that the input used is valid\n",
    "ort_session = onnxruntime.InferenceSession(\"../assets/test-onnx-model.onnx\",)"
   ]
  },
  {
   "cell_type": "code",
   "execution_count": 6,
   "id": "770ebe9d-a8d2-406a-a05d-b8fd4c94b68e",
   "metadata": {},
   "outputs": [],
   "source": [
    "# Keep track of all parameters here\n",
    "latent_len = 3\n",
    "XDIM = 160\n",
    "YDIM = 90\n",
    "input_config = {\n",
    "    \"img_width\": XDIM,\n",
    "    \"img_height\": YDIM,\n",
    "    \"xs_start\": -1,\n",
    "    \"xs_stop\": 0,\n",
    "    \"ys_start\": -1,\n",
    "    \"ys_stop\": 0,\n",
    "}"
   ]
  },
  {
   "cell_type": "code",
   "execution_count": 10,
   "id": "16c0364b-7198-425a-aa27-e9aeafc671d4",
   "metadata": {},
   "outputs": [],
   "source": [
    "net_input = create_input(**input_config)"
   ]
  },
  {
   "cell_type": "code",
   "execution_count": 11,
   "id": "8b80f244-2fe5-42de-9a26-1535bf70f238",
   "metadata": {},
   "outputs": [],
   "source": [
    "latent_vec = np.random.standard_normal(size=(latent_len,))\n",
    "latent_vec = np.expand_dims(latent_vec, axis=0)\n",
    "latent_vec = np.repeat(latent_vec, repeats=net_input.shape[0], axis=0)"
   ]
  },
  {
   "cell_type": "code",
   "execution_count": 14,
   "id": "e019d618-5b1d-435a-aac7-f1c7cd99c92b",
   "metadata": {},
   "outputs": [
    {
     "data": {
      "text/plain": [
       "((14400, 3), (14400, 3))"
      ]
     },
     "execution_count": 14,
     "metadata": {},
     "output_type": "execute_result"
    }
   ],
   "source": [
    "net_input.shape, latent_vec.shape"
   ]
  },
  {
   "cell_type": "code",
   "execution_count": 12,
   "id": "c763ae29-e2fc-4367-9b73-ad77f9b73a1f",
   "metadata": {},
   "outputs": [],
   "source": [
    "ort_inputs = {\n",
    "    \"spatial-input\": net_input.astype(np.float32),\n",
    "    \"latent-vec\": latent_vec.astype(np.float32),\n",
    "}"
   ]
  },
  {
   "cell_type": "code",
   "execution_count": 13,
   "id": "8a04e8f2-8d56-4659-b039-e7bb2cc6834d",
   "metadata": {},
   "outputs": [],
   "source": [
    "ort_outs = ort_session.run([\"output-rgb\"], ort_inputs)\n",
    "out = ort_outs[0]"
   ]
  },
  {
   "cell_type": "code",
   "execution_count": 16,
   "id": "6c6bfdc5-a96c-4dd7-9c26-eb4a430864b1",
   "metadata": {},
   "outputs": [],
   "source": [
    "# Reshape into (y, x, 3) for plotting in PIL\n",
    "out = out.reshape(\n",
    "    input_config[\"img_height\"], input_config[\"img_width\"], -1\n",
    ")"
   ]
  },
  {
   "cell_type": "code",
   "execution_count": 17,
   "id": "046c25ad-f964-4b06-b087-6f799ea90a5d",
   "metadata": {},
   "outputs": [],
   "source": [
    "# Re-format to color output\n",
    "# Scale to range 0 to 255, and set type to int\n",
    "out = (out * 255).astype(np.uint8)"
   ]
  },
  {
   "cell_type": "code",
   "execution_count": 18,
   "id": "cad1d33c-8051-4af6-8c46-3e196cbce2ba",
   "metadata": {},
   "outputs": [
    {
     "data": {
      "text/plain": [
       "(90, 160, 3)"
      ]
     },
     "execution_count": 18,
     "metadata": {},
     "output_type": "execute_result"
    }
   ],
   "source": [
    "out.shape"
   ]
  },
  {
   "cell_type": "code",
   "execution_count": 20,
   "id": "e429dd22-436a-4efc-8b20-b92ce3abdde5",
   "metadata": {},
   "outputs": [
    {
     "data": {
      "image/png": "[encoded data removed]",
      "text/plain": [
       "<PIL.Image.Image image mode=RGB size=160x90 at 0x7F241C255130>"
      ]
     },
     "execution_count": 20,
     "metadata": {},
     "output_type": "execute_result"
    }
   ],
   "source": [
    "Image.fromarray(out)"
   ]
  },
  {
   "cell_type": "markdown",
   "id": "863e39c7-7168-4e06-8cb9-77768b4b68a6",
   "metadata": {},
   "source": [
    "Need to replicate a bit of logic already wrapped in `generate_one_art`, but otherwise just minor changes. More refactoring needed."
   ]
  }
 ],
 "metadata": {
  "kernelspec": {
   "display_name": "Python [conda env:nn-gen-art]",
   "language": "python",
   "name": "conda-env-nn-gen-art-py"
  },
  "language_info": {
   "codemirror_mode": {
    "name": "ipython",
    "version": 3
   },
   "file_extension": ".py",
   "mimetype": "text/x-python",
   "name": "python",
   "nbconvert_exporter": "python",
   "pygments_lexer": "ipython3",
   "version": "3.8.5"
  }
 },
 "nbformat": 4,
 "nbformat_minor": 5
}

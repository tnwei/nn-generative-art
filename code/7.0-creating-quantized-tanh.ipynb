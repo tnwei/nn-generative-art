{
 "cells": [
  {
   "cell_type": "markdown",
   "metadata": {},
   "source": [
    "# Constructing discretized tanh that allows int8 inference in Pytorch"
   ]
  },
  {
   "cell_type": "code",
   "execution_count": 1,
   "metadata": {},
   "outputs": [],
   "source": [
    "import torch\n",
    "import numpy as np"
   ]
  },
  {
   "cell_type": "code",
   "execution_count": 2,
   "metadata": {},
   "outputs": [],
   "source": [
    "import matplotlib.pyplot as plt\n",
    "%matplotlib inline"
   ]
  },
  {
   "cell_type": "markdown",
   "metadata": {},
   "source": [
    "The main idea is:\n",
    "\n",
    "    Now: float -> tanh -> float\n",
    "    Intended: float -> qint -> qint tanh -> qint -> float\n",
    "\n",
    "Did some reading, and sketched out the expected steps by dividing this notebook into subsections."
   ]
  },
  {
   "cell_type": "markdown",
   "metadata": {},
   "source": [
    "### 1. Implement the Baluja et al 2018 logic for obtaining quantized output"
   ]
  },
  {
   "cell_type": "code",
   "execution_count": 3,
   "metadata": {},
   "outputs": [],
   "source": [
    "# This is  modified from: https://bisonai.com/2019/03/14/nmnf/#activation-quantization\n",
    "class tanhD(torch.autograd.Function):\n",
    "    gamma_min = -1.0\n",
    "    gamma_max = 1.0\n",
    "\n",
    "    @staticmethod\n",
    "    def forward(ctx, input: torch.autograd.Variable, levels: int):\n",
    "        y = torch.nn.tanh(input)\n",
    "        ctx.y = y\n",
    "\n",
    "        step = (self.gamma_max - self.gamma_min)/(levels - 1)\n",
    "        quant_y = torch.floor((y - self.gamma_min)/step + 0.5) * step + self.gamma_min\n",
    "        return quant_y\n",
    "\n",
    "    @staticmethod\n",
    "    def backward(self, quant_y: torch.autograd.Variable):\n",
    "        grad_input = 1.0 - ctx.y**2\n",
    "        grad_levels = None\n",
    "        return grad_input, grad_levels"
   ]
  },
  {
   "cell_type": "markdown",
   "metadata": {},
   "source": [
    "Here's a simpler numpy version to work with:"
   ]
  },
  {
   "cell_type": "code",
   "execution_count": 4,
   "metadata": {},
   "outputs": [],
   "source": [
    "def tanhd(x, levels: int):\n",
    "    gamma_min = -1\n",
    "    gamma_max = 1\n",
    "    y = np.tanh(x)\n",
    "    \n",
    "    step = (gamma_max - gamma_min)/(levels - 1)\n",
    "    quant_y = np.floor((y - gamma_min)/step + 0.5) * step + gamma_min\n",
    "    \n",
    "    return quant_y"
   ]
  },
  {
   "cell_type": "code",
   "execution_count": 5,
   "metadata": {},
   "outputs": [],
   "source": [
    "x = np.linspace(-8, 8, num=100)\n",
    "y = tanhd(x, levels=4)"
   ]
  },
  {
   "cell_type": "code",
   "execution_count": 6,
   "metadata": {},
   "outputs": [
    {
     "data": {
      "text/plain": [
       "<matplotlib.collections.PathCollection at 0x7f91a7378f70>"
      ]
     },
     "execution_count": 6,
     "metadata": {},
     "output_type": "execute_result"
    },
    {
     "data": {
      "image/png": "[encoded data removed]",
      "text/plain": [
       "<Figure size 432x288 with 1 Axes>"
      ]
     },
     "metadata": {
      "needs_background": "light"
     },
     "output_type": "display_data"
    }
   ],
   "source": [
    "plt.scatter(x, y)"
   ]
  },
  {
   "cell_type": "markdown",
   "metadata": {},
   "source": [
    "### 2. Extend it to extract the boundaries of quantized weights"
   ]
  },
  {
   "cell_type": "markdown",
   "metadata": {},
   "source": [
    "The boundaries of the quantized weights can be further derived from the formula. The floor function keeps everything quantized, and everytime the arguments to the floor function turn up to be integers, that is the beginning of the next plateau."
   ]
  },
  {
   "cell_type": "markdown",
   "metadata": {},
   "source": [
    "(y - gamma_min)/step + 0.5 = 0 is the entrypoint of the first plateau.\n",
    "\n",
    "y - gamma_min = -0.5 * step\n",
    "\n",
    "y = gamma_min - 0.5 * step\n",
    "\n",
    "if set that to 1:\n",
    "\n",
    "y - gamma_min = 0.5 * step\n",
    "\n",
    "y = gamma_min + 0.5 * step\n",
    "\n",
    "if set that to 2:\n",
    "\n",
    "y = gamma_min + 1.5 * step"
   ]
  },
  {
   "cell_type": "markdown",
   "metadata": {},
   "source": [
    "Both `pytorch` and `numpy` have inverse `tanh`. Turns out Pytorch has it due to feature request to have parity with numpy and also for working in hyperbolic space."
   ]
  },
  {
   "cell_type": "code",
   "execution_count": 9,
   "metadata": {},
   "outputs": [],
   "source": [
    "def find_boundaries(levels: int):\n",
    "    gamma_min = -1\n",
    "    gamma_max = 1\n",
    "    \n",
    "    assert levels >= 2\n",
    "    \n",
    "    step = (gamma_max - gamma_min)/(levels - 1)\n",
    "    \n",
    "    # This defines the output values of the steps\n",
    "    outputs = [gamma_min + i * step for i in range(levels)]\n",
    "    \n",
    "    # This finds the dividing points between the steps\n",
    "    # 4 outputs means 3 dividing points\n",
    "    # So if x is less than the first dividing x, take the value of the first dividing y!\n",
    "    dividing_ys = [(outputs[i] + outputs[i+1])/2 for i in range(len(outputs)-1)]\n",
    "    \n",
    "    # Find the corresponding arctanh(y) = x for each dividing y\n",
    "    dividing_xs = np.arctanh(dividing_ys)\n",
    "    \n",
    "    \"\"\"\n",
    "    # Find the min value required to trigger the right most step\n",
    "    min_right_y = gamma_min + (levels-1-0.5) * step\n",
    "    min_right_x = np.arctanh(min_right_y)\n",
    "    \n",
    "    xs = []\n",
    "    ys = []\n",
    "    \n",
    "    # For quantized outputs 0 to levels-2\n",
    "    # Find the max value that will still fit on the plateau\n",
    "    for i in range(0, levels-1):\n",
    "        y_right = gamma_min + (i+1-0.5) * step\n",
    "        \n",
    "        # Find x = arctanh(y)\n",
    "        x_right = np.arctanh(y_right)\n",
    "        \n",
    "        xs.append(x_right)\n",
    "    \"\"\"\n",
    "    \n",
    "    def tanh_int(x):\n",
    "        # So if x is less than the first dividing x, take the value of the first dividing y!\n",
    "        for i in range(levels-1):\n",
    "            if x <= dividing_xs[i]:\n",
    "                return dividing_ys[i] - 0.5 * step\n",
    "        else:\n",
    "            return dividing_ys[i] + 0.5 * step\n",
    "        \"\"\"\n",
    "        # Check if belongs in right-most step\n",
    "        if x >= min_right_y:\n",
    "            return outputs[-1]\n",
    "        else:\n",
    "            # Else check if belong in previous steps\n",
    "            for i in range(levels-1):\n",
    "                if x < xs[i]:\n",
    "                    return outputs[i]\n",
    "        \"\"\"\n",
    "        \n",
    "    return tanh_int"
   ]
  },
  {
   "cell_type": "markdown",
   "metadata": {},
   "source": [
    "This should achieve similar feature parity as the `tanhd` function above."
   ]
  },
  {
   "cell_type": "code",
   "execution_count": 10,
   "metadata": {},
   "outputs": [],
   "source": [
    "x = np.linspace(-8, 8, num=100)\n",
    "y = tanhd(x, levels=4)"
   ]
  },
  {
   "cell_type": "code",
   "execution_count": 11,
   "metadata": {},
   "outputs": [],
   "source": [
    "tanh_int = find_boundaries(levels=4)"
   ]
  },
  {
   "cell_type": "code",
   "execution_count": 12,
   "metadata": {},
   "outputs": [],
   "source": [
    "y2 = []\n",
    "for i in x:\n",
    "    # print(f\"x: {i}, y: {tanh_int(i)}\")\n",
    "    y2.append(tanh_int(i))\n",
    "y2 = np.array(y2)"
   ]
  },
  {
   "cell_type": "code",
   "execution_count": 13,
   "metadata": {},
   "outputs": [
    {
     "data": {
      "text/plain": [
       "<matplotlib.legend.Legend at 0x7f91a728f8e0>"
      ]
     },
     "execution_count": 13,
     "metadata": {},
     "output_type": "execute_result"
    },
    {
     "data": {
      "image/png": "[encoded data removed]",
      "text/plain": [
       "<Figure size 432x288 with 1 Axes>"
      ]
     },
     "metadata": {
      "needs_background": "light"
     },
     "output_type": "display_data"
    }
   ],
   "source": [
    "plt.scatter(x, y, label=\"Expected\")\n",
    "plt.scatter(x, y2, label=\"Implementation\")\n",
    "plt.legend()"
   ]
  },
  {
   "cell_type": "code",
   "execution_count": 14,
   "metadata": {},
   "outputs": [
    {
     "data": {
      "text/plain": [
       "(dtype('float64'), dtype('float64'))"
      ]
     },
     "execution_count": 14,
     "metadata": {},
     "output_type": "execute_result"
    }
   ],
   "source": [
    "y.dtype, y2.dtype"
   ]
  },
  {
   "cell_type": "code",
   "execution_count": 15,
   "metadata": {},
   "outputs": [
    {
     "data": {
      "text/plain": [
       "True"
      ]
     },
     "execution_count": 15,
     "metadata": {},
     "output_type": "execute_result"
    }
   ],
   "source": [
    "np.isclose(y, y2).any()"
   ]
  },
  {
   "cell_type": "markdown",
   "metadata": {},
   "source": [
    "Good!"
   ]
  },
  {
   "cell_type": "code",
   "execution_count": 16,
   "metadata": {},
   "outputs": [],
   "source": [
    "x = np.linspace(-8, 8, num=100)\n",
    "y = tanhd(x, levels=256)"
   ]
  },
  {
   "cell_type": "code",
   "execution_count": 17,
   "metadata": {},
   "outputs": [],
   "source": [
    "tanh_int = find_boundaries(levels=256)"
   ]
  },
  {
   "cell_type": "code",
   "execution_count": 18,
   "metadata": {},
   "outputs": [],
   "source": [
    "y2 = []\n",
    "for i in x:\n",
    "    # print(f\"x: {i}, y: {tanh_int(i)}\")\n",
    "    y2.append(tanh_int(i))\n",
    "y2 = np.array(y2)"
   ]
  },
  {
   "cell_type": "code",
   "execution_count": 19,
   "metadata": {},
   "outputs": [
    {
     "data": {
      "text/plain": [
       "<matplotlib.legend.Legend at 0x7f91a7207df0>"
      ]
     },
     "execution_count": 19,
     "metadata": {},
     "output_type": "execute_result"
    },
    {
     "data": {
      "image/png": "[encoded data removed]",
      "text/plain": [
       "<Figure size 432x288 with 1 Axes>"
      ]
     },
     "metadata": {
      "needs_background": "light"
     },
     "output_type": "display_data"
    }
   ],
   "source": [
    "plt.scatter(x, y, label=\"Expected\")\n",
    "plt.scatter(x, y2, label=\"Implementation\")\n",
    "plt.legend()"
   ]
  },
  {
   "cell_type": "code",
   "execution_count": 20,
   "metadata": {},
   "outputs": [
    {
     "data": {
      "text/plain": [
       "True"
      ]
     },
     "execution_count": 20,
     "metadata": {},
     "output_type": "execute_result"
    }
   ],
   "source": [
    "np.isclose(y, y2).any()"
   ]
  },
  {
   "cell_type": "markdown",
   "metadata": {},
   "source": [
    "Verified this implementation to be equivalent to the one in Baluja et al 2018. Ended up now w/ a version of tanh that takes float input and outputs quantized output, while skipped the computation of tanh itself."
   ]
  },
  {
   "cell_type": "markdown",
   "metadata": {},
   "source": [
    "### 3. Build tanh mapping in int8 and test that the implementation is sane"
   ]
  },
  {
   "cell_type": "markdown",
   "metadata": {},
   "source": [
    "Still need to get the function to work on using int8 input, and also int8 output. This is where I need to leave numpy behind and work in torch to use the qint dtypes."
   ]
  },
  {
   "cell_type": "markdown",
   "metadata": {},
   "source": [
    "Wonder what is the sensitivity limit for tanh."
   ]
  },
  {
   "cell_type": "code",
   "execution_count": 21,
   "metadata": {},
   "outputs": [
    {
     "data": {
      "text/plain": [
       "array([-6.10303382, -4.95171878, -3.80020117, -2.64665241, -1.47221949])"
      ]
     },
     "execution_count": 21,
     "metadata": {},
     "output_type": "execute_result"
    }
   ],
   "source": [
    "np.arctanh([-1+1e-5, -1+1e-4, -1+1e-3, -1+1e-2, -1+1e-1])"
   ]
  },
  {
   "cell_type": "markdown",
   "metadata": {},
   "source": [
    "For the output of tanh(x) to change from -1 to -0.99, x needs to move from -inf to -2.7. We don't need a lot of precision here."
   ]
  },
  {
   "cell_type": "code",
   "execution_count": 22,
   "metadata": {},
   "outputs": [],
   "source": [
    "qx = torch.quantize_per_tensor(torch.Tensor(x), scale=0.025, zero_point=0, dtype=torch.qint8)"
   ]
  },
  {
   "cell_type": "code",
   "execution_count": 23,
   "metadata": {},
   "outputs": [
    {
     "data": {
      "text/plain": [
       "tensor([-3.2000, -3.2000, -3.2000, -3.2000, -3.2000, -3.2000, -3.2000, -3.2000,\n",
       "        -3.2000, -3.2000, -3.2000, -3.2000, -3.2000, -3.2000, -3.2000, -3.2000,\n",
       "        -3.2000, -3.2000, -3.2000, -3.2000, -3.2000, -3.2000, -3.2000, -3.2000,\n",
       "        -3.2000, -3.2000, -3.2000, -3.2000, -3.2000, -3.2000, -3.1500, -3.0000,\n",
       "        -2.8250, -2.6750, -2.5000, -2.3500, -2.1750, -2.0250, -1.8500, -1.7000,\n",
       "        -1.5250, -1.3750, -1.2000, -1.0500, -0.9000, -0.7250, -0.5750, -0.4000,\n",
       "        -0.2500, -0.0750,  0.0750,  0.2500,  0.4000,  0.5750,  0.7250,  0.9000,\n",
       "         1.0500,  1.2000,  1.3750,  1.5250,  1.7000,  1.8500,  2.0250,  2.1750,\n",
       "         2.3500,  2.5000,  2.6750,  2.8250,  3.0000,  3.1500,  3.1750,  3.1750,\n",
       "         3.1750,  3.1750,  3.1750,  3.1750,  3.1750,  3.1750,  3.1750,  3.1750,\n",
       "         3.1750,  3.1750,  3.1750,  3.1750,  3.1750,  3.1750,  3.1750,  3.1750,\n",
       "         3.1750,  3.1750,  3.1750,  3.1750,  3.1750,  3.1750,  3.1750,  3.1750,\n",
       "         3.1750,  3.1750,  3.1750,  3.1750], size=(100,), dtype=torch.qint8,\n",
       "       quantization_scheme=torch.per_tensor_affine, scale=0.025, zero_point=0)"
      ]
     },
     "execution_count": 23,
     "metadata": {},
     "output_type": "execute_result"
    }
   ],
   "source": [
    "qx"
   ]
  },
  {
   "cell_type": "code",
   "execution_count": 24,
   "metadata": {},
   "outputs": [],
   "source": [
    "qy = []\n",
    "for i in qx:\n",
    "    qy.append(tanh_int(i))\n",
    "qy = np.array(qy)"
   ]
  },
  {
   "cell_type": "code",
   "execution_count": 25,
   "metadata": {},
   "outputs": [
    {
     "data": {
      "text/plain": [
       "<matplotlib.collections.PathCollection at 0x7f91a697d340>"
      ]
     },
     "execution_count": 25,
     "metadata": {},
     "output_type": "execute_result"
    },
    {
     "data": {
      "image/png": "[encoded data removed]",
      "text/plain": [
       "<Figure size 432x288 with 1 Axes>"
      ]
     },
     "metadata": {
      "needs_background": "light"
     },
     "output_type": "display_data"
    }
   ],
   "source": [
    "plt.scatter(x, y)"
   ]
  },
  {
   "cell_type": "code",
   "execution_count": 26,
   "metadata": {},
   "outputs": [
    {
     "data": {
      "text/plain": [
       "<matplotlib.collections.PathCollection at 0x7f91a6959ac0>"
      ]
     },
     "execution_count": 26,
     "metadata": {},
     "output_type": "execute_result"
    },
    {
     "data": {
      "image/png": "[encoded data removed]",
      "text/plain": [
       "<Figure size 432x288 with 1 Axes>"
      ]
     },
     "metadata": {
      "needs_background": "light"
     },
     "output_type": "display_data"
    }
   ],
   "source": [
    "plt.scatter(x, qy)"
   ]
  },
  {
   "cell_type": "markdown",
   "metadata": {},
   "source": [
    "Looks good enough to me, and verified drop-in compatibility with qint input. Now for the output."
   ]
  },
  {
   "cell_type": "code",
   "execution_count": 27,
   "metadata": {},
   "outputs": [],
   "source": [
    "def find_boundaries(levels: int, scale: float = 0.025, zero_point: float = 0):\n",
    "    gamma_min = -1\n",
    "    gamma_max = 1\n",
    "    \n",
    "    assert levels >= 2\n",
    "    \n",
    "    step = (gamma_max - gamma_min)/(levels - 1)\n",
    "    \n",
    "    # This defines the output values of the steps\n",
    "    outputs = [gamma_min + i * step for i in range(levels)]\n",
    "    \n",
    "    # Add quantization\n",
    "    torch_outputs = torch.Tensor(outputs)\n",
    "    q_outputs = torch.quantize_per_tensor(torch_outputs, scale=scale, zero_point=zero_point, dtype=torch.qint8)\n",
    "    q_int_outputs = q_outputs.int_repr()\n",
    "    floated_q_outputs = torch.dequantize(q_outputs)\n",
    "    \n",
    "    # Use the quantized outputs, in case that quantization shifted the outputs from the original floating point too far\n",
    "    \n",
    "    # This finds the dividing points between the steps\n",
    "    # 4 outputs means 3 dividing points\n",
    "    # So if x is less than the first dividing x, take the value of the first dividing y!\n",
    "    dividing_ys = [(floated_q_outputs[i] + floated_q_outputs[i+1])/2 for i in range(len(outputs)-1)]\n",
    "    \n",
    "    # Find the corresponding arctanh(y) = x for each dividing y\n",
    "    dividing_xs = np.arctanh(dividing_ys)\n",
    "    \n",
    "    def _tanh_int(x):\n",
    "        # This needs to work on the underlying int representation! \n",
    "        # Assumes input is qint, outputs qint\n",
    "        # qint8 does not support zeros_like, or torch.stack! \n",
    "        # Need to be a bit creative here\n",
    "        \n",
    "        # So if x is less than the first dividing x, return the value of the first output level\n",
    "        for i in range(levels-1):\n",
    "            if x <= dividing_xs[i]:\n",
    "                return q_outputs[i]\n",
    "        else:\n",
    "            return q_outputs[-1]\n",
    "        \n",
    "    def tanh_int(x):\n",
    "        if isinstance(x, torch.Tensor):\n",
    "            # ys = []\n",
    "            # for i in x:\n",
    "            #     ys.append(_tanh_int(i))\n",
    "            # ys = torch.tensor(ys, dtype=torch.int8)\n",
    "            # return ys\n",
    "            \n",
    "            # Finally found one method that works\n",
    "            ys = torch.zeros(size=x.size())\n",
    "            ys = torch.quantize_per_tensor(ys, scale=scale, zero_point=zero_point, dtype=torch.qint8)\n",
    "            for count, i in enumerate(x):\n",
    "                ys[count] = _tanh_int(i)\n",
    "            return ys\n",
    "        \n",
    "        else:\n",
    "            return _tanh_int(x)\n",
    "\n",
    "    return tanh_int, q_outputs"
   ]
  },
  {
   "cell_type": "code",
   "execution_count": 28,
   "metadata": {},
   "outputs": [],
   "source": [
    "x = np.linspace(-8, 8, num=100)\n",
    "y = tanhd(x, levels=256)"
   ]
  },
  {
   "cell_type": "code",
   "execution_count": 29,
   "metadata": {},
   "outputs": [
    {
     "name": "stderr",
     "output_type": "stream",
     "text": [
      "<ipython-input-27-65b1227bbb06>:26: RuntimeWarning: divide by zero encountered in arctanh\n",
      "  dividing_xs = np.arctanh(dividing_ys)\n"
     ]
    }
   ],
   "source": [
    "tanh_int, q_outputs = find_boundaries(levels=256)"
   ]
  },
  {
   "cell_type": "code",
   "execution_count": 30,
   "metadata": {},
   "outputs": [
    {
     "data": {
      "text/plain": [
       "tensor([-1.0000, -1.0000, -0.9750, -0.9750, -0.9750, -0.9500, -0.9500, -0.9500,\n",
       "        -0.9250, -0.9250, -0.9250, -0.9250, -0.9000, -0.9000, -0.9000, -0.8750,\n",
       "        -0.8750, -0.8750, -0.8500, -0.8500, -0.8500, -0.8250, -0.8250, -0.8250,\n",
       "        -0.8000, -0.8000, -0.8000, -0.8000, -0.7750, -0.7750, -0.7750, -0.7500,\n",
       "        -0.7500, -0.7500, -0.7250, -0.7250, -0.7250, -0.7000, -0.7000, -0.7000,\n",
       "        -0.6750, -0.6750, -0.6750, -0.6750, -0.6500, -0.6500, -0.6500, -0.6250,\n",
       "        -0.6250, -0.6250, -0.6000, -0.6000, -0.6000, -0.5750, -0.5750, -0.5750,\n",
       "        -0.5500, -0.5500, -0.5500, -0.5250, -0.5250, -0.5250, -0.5250, -0.5000,\n",
       "        -0.5000, -0.5000, -0.4750, -0.4750, -0.4750, -0.4500, -0.4500, -0.4500,\n",
       "        -0.4250, -0.4250, -0.4250, -0.4000, -0.4000, -0.4000, -0.4000, -0.3750,\n",
       "        -0.3750, -0.3750, -0.3500, -0.3500, -0.3500, -0.3250, -0.3250, -0.3250,\n",
       "        -0.3000, -0.3000, -0.3000, -0.2750, -0.2750, -0.2750, -0.2750, -0.2500,\n",
       "        -0.2500, -0.2500, -0.2250, -0.2250, -0.2250, -0.2000, -0.2000, -0.2000,\n",
       "        -0.1750, -0.1750, -0.1750, -0.1500, -0.1500, -0.1500, -0.1250, -0.1250,\n",
       "        -0.1250, -0.1250, -0.1000, -0.1000, -0.1000, -0.0750, -0.0750, -0.0750,\n",
       "        -0.0500, -0.0500, -0.0500, -0.0250, -0.0250, -0.0250,  0.0000,  0.0000,\n",
       "         0.0000,  0.0000,  0.0250,  0.0250,  0.0250,  0.0500,  0.0500,  0.0500,\n",
       "         0.0750,  0.0750,  0.0750,  0.1000,  0.1000,  0.1000,  0.1250,  0.1250,\n",
       "         0.1250,  0.1250,  0.1500,  0.1500,  0.1500,  0.1750,  0.1750,  0.1750,\n",
       "         0.2000,  0.2000,  0.2000,  0.2250,  0.2250,  0.2250,  0.2500,  0.2500,\n",
       "         0.2500,  0.2750,  0.2750,  0.2750,  0.2750,  0.3000,  0.3000,  0.3000,\n",
       "         0.3250,  0.3250,  0.3250,  0.3500,  0.3500,  0.3500,  0.3750,  0.3750,\n",
       "         0.3750,  0.4000,  0.4000,  0.4000,  0.4000,  0.4250,  0.4250,  0.4250,\n",
       "         0.4500,  0.4500,  0.4500,  0.4750,  0.4750,  0.4750,  0.5000,  0.5000,\n",
       "         0.5000,  0.5250,  0.5250,  0.5250,  0.5250,  0.5500,  0.5500,  0.5500,\n",
       "         0.5750,  0.5750,  0.5750,  0.6000,  0.6000,  0.6000,  0.6250,  0.6250,\n",
       "         0.6250,  0.6500,  0.6500,  0.6500,  0.6750,  0.6750,  0.6750,  0.6750,\n",
       "         0.7000,  0.7000,  0.7000,  0.7250,  0.7250,  0.7250,  0.7500,  0.7500,\n",
       "         0.7500,  0.7750,  0.7750,  0.7750,  0.8000,  0.8000,  0.8000,  0.8000,\n",
       "         0.8250,  0.8250,  0.8250,  0.8500,  0.8500,  0.8500,  0.8750,  0.8750,\n",
       "         0.8750,  0.9000,  0.9000,  0.9000,  0.9250,  0.9250,  0.9250,  0.9250,\n",
       "         0.9500,  0.9500,  0.9500,  0.9750,  0.9750,  0.9750,  1.0000,  1.0000],\n",
       "       size=(256,), dtype=torch.qint8,\n",
       "       quantization_scheme=torch.per_tensor_affine, scale=0.025, zero_point=0)"
      ]
     },
     "execution_count": 30,
     "metadata": {},
     "output_type": "execute_result"
    }
   ],
   "source": [
    "q_outputs"
   ]
  },
  {
   "cell_type": "code",
   "execution_count": 31,
   "metadata": {},
   "outputs": [
    {
     "data": {
      "text/plain": [
       "tensor(-1., size=(), dtype=torch.qint8,\n",
       "       quantization_scheme=torch.per_tensor_affine, scale=0.025, zero_point=0)"
      ]
     },
     "execution_count": 31,
     "metadata": {},
     "output_type": "execute_result"
    }
   ],
   "source": [
    "q_outputs[0]"
   ]
  },
  {
   "cell_type": "code",
   "execution_count": 32,
   "metadata": {},
   "outputs": [],
   "source": [
    "qx = torch.quantize_per_tensor(torch.Tensor(x), scale=0.025, zero_point=0, dtype=torch.qint8)"
   ]
  },
  {
   "cell_type": "code",
   "execution_count": 33,
   "metadata": {},
   "outputs": [
    {
     "data": {
      "text/plain": [
       "torch.qint8"
      ]
     },
     "execution_count": 33,
     "metadata": {},
     "output_type": "execute_result"
    }
   ],
   "source": [
    "torch.qint8"
   ]
  },
  {
   "cell_type": "code",
   "execution_count": 34,
   "metadata": {},
   "outputs": [
    {
     "data": {
      "text/plain": [
       "tensor([-3.2000, -3.2000, -3.2000, -3.2000, -3.2000, -3.2000, -3.2000, -3.2000,\n",
       "        -3.2000, -3.2000, -3.2000, -3.2000, -3.2000, -3.2000, -3.2000, -3.2000,\n",
       "        -3.2000, -3.2000, -3.2000, -3.2000, -3.2000, -3.2000, -3.2000, -3.2000,\n",
       "        -3.2000, -3.2000, -3.2000, -3.2000, -3.2000, -3.2000, -3.1500, -3.0000,\n",
       "        -2.8250, -2.6750, -2.5000, -2.3500, -2.1750, -2.0250, -1.8500, -1.7000,\n",
       "        -1.5250, -1.3750, -1.2000, -1.0500, -0.9000, -0.7250, -0.5750, -0.4000,\n",
       "        -0.2500, -0.0750,  0.0750,  0.2500,  0.4000,  0.5750,  0.7250,  0.9000,\n",
       "         1.0500,  1.2000,  1.3750,  1.5250,  1.7000,  1.8500,  2.0250,  2.1750,\n",
       "         2.3500,  2.5000,  2.6750,  2.8250,  3.0000,  3.1500,  3.1750,  3.1750,\n",
       "         3.1750,  3.1750,  3.1750,  3.1750,  3.1750,  3.1750,  3.1750,  3.1750,\n",
       "         3.1750,  3.1750,  3.1750,  3.1750,  3.1750,  3.1750,  3.1750,  3.1750,\n",
       "         3.1750,  3.1750,  3.1750,  3.1750,  3.1750,  3.1750,  3.1750,  3.1750,\n",
       "         3.1750,  3.1750,  3.1750,  3.1750], size=(100,), dtype=torch.qint8,\n",
       "       quantization_scheme=torch.per_tensor_affine, scale=0.025, zero_point=0)"
      ]
     },
     "execution_count": 34,
     "metadata": {},
     "output_type": "execute_result"
    }
   ],
   "source": [
    "qx"
   ]
  },
  {
   "cell_type": "code",
   "execution_count": 35,
   "metadata": {},
   "outputs": [],
   "source": [
    "qy = tanh_int(qx)"
   ]
  },
  {
   "cell_type": "code",
   "execution_count": 36,
   "metadata": {},
   "outputs": [
    {
     "data": {
      "text/plain": [
       "tensor([-1.0000, -1.0000, -1.0000, -1.0000, -1.0000, -1.0000, -1.0000, -1.0000,\n",
       "        -1.0000, -1.0000, -1.0000, -1.0000, -1.0000, -1.0000, -1.0000, -1.0000,\n",
       "        -1.0000, -1.0000, -1.0000, -1.0000, -1.0000, -1.0000, -1.0000, -1.0000,\n",
       "        -1.0000, -1.0000, -1.0000, -1.0000, -1.0000, -1.0000, -1.0000, -1.0000,\n",
       "        -1.0000, -1.0000, -0.9750, -0.9750, -0.9750, -0.9750, -0.9500, -0.9250,\n",
       "        -0.9000, -0.8750, -0.8250, -0.7750, -0.7250, -0.6250, -0.5250, -0.3750,\n",
       "        -0.2500, -0.0750,  0.0750,  0.2500,  0.3750,  0.5250,  0.6250,  0.7250,\n",
       "         0.7750,  0.8250,  0.8750,  0.9000,  0.9250,  0.9500,  0.9750,  0.9750,\n",
       "         0.9750,  0.9750,  1.0000,  1.0000,  1.0000,  1.0000,  1.0000,  1.0000,\n",
       "         1.0000,  1.0000,  1.0000,  1.0000,  1.0000,  1.0000,  1.0000,  1.0000,\n",
       "         1.0000,  1.0000,  1.0000,  1.0000,  1.0000,  1.0000,  1.0000,  1.0000,\n",
       "         1.0000,  1.0000,  1.0000,  1.0000,  1.0000,  1.0000,  1.0000,  1.0000,\n",
       "         1.0000,  1.0000,  1.0000,  1.0000], size=(100,), dtype=torch.qint8,\n",
       "       quantization_scheme=torch.per_tensor_affine, scale=0.025, zero_point=0)"
      ]
     },
     "execution_count": 36,
     "metadata": {},
     "output_type": "execute_result"
    }
   ],
   "source": [
    "qy"
   ]
  },
  {
   "cell_type": "code",
   "execution_count": 37,
   "metadata": {},
   "outputs": [
    {
     "data": {
      "text/plain": [
       "tensor([-1.0000, -1.0000, -1.0000, -1.0000, -1.0000, -1.0000, -1.0000, -1.0000,\n",
       "        -1.0000, -1.0000, -1.0000, -1.0000, -1.0000, -1.0000, -1.0000, -1.0000,\n",
       "        -1.0000, -1.0000, -1.0000, -1.0000, -1.0000, -1.0000, -1.0000, -1.0000,\n",
       "        -1.0000, -1.0000, -1.0000, -1.0000, -1.0000, -1.0000, -1.0000, -1.0000,\n",
       "        -1.0000, -1.0000, -0.9750, -0.9750, -0.9750, -0.9750, -0.9500, -0.9250,\n",
       "        -0.9000, -0.8750, -0.8250, -0.7750, -0.7250, -0.6250, -0.5250, -0.3750,\n",
       "        -0.2500, -0.0750,  0.0750,  0.2500,  0.3750,  0.5250,  0.6250,  0.7250,\n",
       "         0.7750,  0.8250,  0.8750,  0.9000,  0.9250,  0.9500,  0.9750,  0.9750,\n",
       "         0.9750,  0.9750,  1.0000,  1.0000,  1.0000,  1.0000,  1.0000,  1.0000,\n",
       "         1.0000,  1.0000,  1.0000,  1.0000,  1.0000,  1.0000,  1.0000,  1.0000,\n",
       "         1.0000,  1.0000,  1.0000,  1.0000,  1.0000,  1.0000,  1.0000,  1.0000,\n",
       "         1.0000,  1.0000,  1.0000,  1.0000,  1.0000,  1.0000,  1.0000,  1.0000,\n",
       "         1.0000,  1.0000,  1.0000,  1.0000], size=(100,), dtype=torch.qint8,\n",
       "       quantization_scheme=torch.per_tensor_affine, scale=0.025, zero_point=0)"
      ]
     },
     "execution_count": 37,
     "metadata": {},
     "output_type": "execute_result"
    }
   ],
   "source": [
    "qy"
   ]
  },
  {
   "cell_type": "markdown",
   "metadata": {},
   "source": [
    "Initially, I only managed to produce the int representation of the output. From looking at the source code for `torch.nn.quantized.Quantize`, seemed out of reach to implement converting int8 to qint8. I can return slices of qint8 Tensors, but initializing them is not allowed, nor is concatenating them. Ended up converting a tensor of zeros with the right shape to qint8, and replaced each element one by one. Hacky but gives me an output in qint8 that plays well w/ Pytorch quantization."
   ]
  },
  {
   "cell_type": "markdown",
   "metadata": {},
   "source": [
    "### 4. Implement as a `torch.autograd.Function` layer that can be used"
   ]
  },
  {
   "cell_type": "markdown",
   "metadata": {},
   "source": [
    "Ref: https://pytorch.org/tutorials/beginner/examples_autograd/two_layer_net_custom_function.html"
   ]
  },
  {
   "cell_type": "markdown",
   "metadata": {},
   "source": [
    "While I am only interested in the forward loop, also implemented the backward loop from Baluja et al 2018 while I'm at it."
   ]
  },
  {
   "cell_type": "code",
   "execution_count": 40,
   "metadata": {},
   "outputs": [],
   "source": [
    "class Qtanh(torch.autograd.Function):\n",
    "\n",
    "    def __init__(self, levels: int, scale: float = 0.025, zero_point: float = 0):\n",
    "        super().__init__()\n",
    "        self.tanh_int = self.create_tanh_int(levels=levels, scale=scale, zero_point=zero_point)\n",
    "    \n",
    "    def create_tanh_int(self, levels: int, scale: float, zero_point: float):\n",
    "        gamma_min = -1\n",
    "        gamma_max = 1\n",
    "\n",
    "        assert levels >= 2\n",
    "\n",
    "        step = (gamma_max - gamma_min)/(levels - 1)\n",
    "\n",
    "        # This defines the output values of the steps\n",
    "        outputs = [gamma_min + i * step for i in range(levels)]\n",
    "\n",
    "        # Add quantization\n",
    "        torch_outputs = torch.tensor(outputs)\n",
    "        q_outputs = torch.quantize_per_tensor(torch_outputs, scale=scale, zero_point=zero_point, dtype=torch.qint8)\n",
    "\n",
    "        # Use the quantized outputs, in case that quantization shifted the outputs from the original floating point too far\n",
    "        floated_q_outputs = torch.dequantize(q_outputs)\n",
    "        dividing_ys = [(floated_q_outputs[i] + floated_q_outputs[i+1])/2 for i in range(len(outputs)-1)]\n",
    "\n",
    "        # Find the corresponding arctanh(y) = x for each dividing y\n",
    "        dividing_xs = torch.atanh(torch.tensor(dividing_ys))\n",
    "\n",
    "        def _tanh_int(x):\n",
    "            for i in range(levels-1):\n",
    "                if x <= dividing_xs[i]:\n",
    "                    return q_outputs[i]\n",
    "            else:\n",
    "                return q_outputs[-1]\n",
    "\n",
    "        def tanh_int(x):\n",
    "            if isinstance(x, torch.Tensor):\n",
    "                # Finally found one method that works\n",
    "                ys = torch.zeros(size=x.size())\n",
    "                ys = torch.quantize_per_tensor(ys, scale=scale, zero_point=zero_point, dtype=torch.qint8)\n",
    "                for count, i in enumerate(x):\n",
    "                    ys[count] = _tanh_int(i)\n",
    "                return ys\n",
    "\n",
    "            else:\n",
    "                return _tanh_int(x)\n",
    "\n",
    "        return tanh_int\n",
    "\n",
    "    @staticmethod\n",
    "    def forward(ctx, x: torch.autograd.Variable):\n",
    "        \"\"\"\n",
    "        In the forward pass we receive a Tensor containing the input and return\n",
    "        a Tensor containing the output. ctx is a context object that can be used\n",
    "        to stash information for backward computation. You can cache arbitrary\n",
    "        objects for use in the backward pass using the ctx.save_for_backward method.\n",
    "        \"\"\"\n",
    "        ctx.save_for_backward(x)\n",
    "        return tanh_int(x)\n",
    "\n",
    "    @staticmethod\n",
    "    def backward(ctx):\n",
    "        \"\"\"\n",
    "        In the backward pass we receive a Tensor containing the gradient of the loss\n",
    "        with respect to the output, and we need to compute the gradient of the loss\n",
    "        with respect to the input.\n",
    "        \"\"\"\n",
    "        x, = ctx.saved_tensors\n",
    "        grad_input = 1.0 - torch.tanh(x) ** 2\n",
    "        grad_levels = None\n",
    "        return grad_input, grad_levels"
   ]
  },
  {
   "cell_type": "code",
   "execution_count": 41,
   "metadata": {},
   "outputs": [],
   "source": [
    "qtanh = Qtanh(levels=256, scale=0.025, zero_point=0)"
   ]
  },
  {
   "cell_type": "code",
   "execution_count": 44,
   "metadata": {},
   "outputs": [
    {
     "data": {
      "text/plain": [
       "tensor([-1.0000, -1.0000, -1.0000, -1.0000, -1.0000, -1.0000, -1.0000, -1.0000,\n",
       "        -1.0000, -1.0000, -1.0000, -1.0000, -1.0000, -1.0000, -1.0000, -1.0000,\n",
       "        -1.0000, -1.0000, -1.0000, -1.0000, -1.0000, -1.0000, -1.0000, -1.0000,\n",
       "        -1.0000, -1.0000, -1.0000, -1.0000, -1.0000, -1.0000, -1.0000, -1.0000,\n",
       "        -1.0000, -1.0000, -0.9750, -0.9750, -0.9750, -0.9750, -0.9500, -0.9250,\n",
       "        -0.9000, -0.8750, -0.8250, -0.7750, -0.7250, -0.6250, -0.5250, -0.3750,\n",
       "        -0.2500, -0.0750,  0.0750,  0.2500,  0.3750,  0.5250,  0.6250,  0.7250,\n",
       "         0.7750,  0.8250,  0.8750,  0.9000,  0.9250,  0.9500,  0.9750,  0.9750,\n",
       "         0.9750,  0.9750,  1.0000,  1.0000,  1.0000,  1.0000,  1.0000,  1.0000,\n",
       "         1.0000,  1.0000,  1.0000,  1.0000,  1.0000,  1.0000,  1.0000,  1.0000,\n",
       "         1.0000,  1.0000,  1.0000,  1.0000,  1.0000,  1.0000,  1.0000,  1.0000,\n",
       "         1.0000,  1.0000,  1.0000,  1.0000,  1.0000,  1.0000,  1.0000,  1.0000,\n",
       "         1.0000,  1.0000,  1.0000,  1.0000], size=(100,), dtype=torch.qint8,\n",
       "       quantization_scheme=torch.per_tensor_affine, scale=0.025, zero_point=0)"
      ]
     },
     "execution_count": 44,
     "metadata": {},
     "output_type": "execute_result"
    }
   ],
   "source": [
    "qtanh.apply(qx)"
   ]
  },
  {
   "cell_type": "markdown",
   "metadata": {},
   "source": [
    "### 5. Define a model that utilizes the tanh layer and works properly"
   ]
  },
  {
   "cell_type": "code",
   "execution_count": 45,
   "metadata": {},
   "outputs": [],
   "source": [
    "# TODO: Pending quantized model"
   ]
  },
  {
   "cell_type": "markdown",
   "metadata": {},
   "source": [
    "### 6. Combine w/ a model that uses int8 and let the layers fly"
   ]
  }
 ],
 "metadata": {
  "kernelspec": {
   "display_name": "Python [conda env:nn-gen-art]",
   "language": "python",
   "name": "conda-env-nn-gen-art-py"
  },
  "language_info": {
   "codemirror_mode": {
    "name": "ipython",
    "version": 3
   },
   "file_extension": ".py",
   "mimetype": "text/x-python",
   "name": "python",
   "nbconvert_exporter": "python",
   "pygments_lexer": "ipython3",
   "version": "3.8.5"
  },
  "widgets": {
   "application/vnd.jupyter.widget-state+json": {
    "state": {},
    "version_major": 2,
    "version_minor": 0
   }
  }
 },
 "nbformat": 4,
 "nbformat_minor": 4
}

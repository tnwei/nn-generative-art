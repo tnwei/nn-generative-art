{
 "cells": [
  {
   "cell_type": "markdown",
   "id": "1d3dca2e-0a99-4639-a8f4-aecfbfe43976",
   "metadata": {},
   "source": [
    "# Add calculating time of flight for a matrix of arbitrary points"
   ]
  },
  {
   "cell_type": "markdown",
   "id": "703f068a-c737-4037-be2c-15a542847b80",
   "metadata": {},
   "source": [
    "Extension upon the existing feature of adding a matrix of distance to origin."
   ]
  },
  {
   "cell_type": "code",
   "execution_count": 1,
   "id": "c0a96aff-d14e-488b-98c5-1f47cffc90d5",
   "metadata": {},
   "outputs": [],
   "source": [
    "import numpy as np\n",
    "import scipy\n",
    "import matplotlib.pyplot as plt\n",
    "import seaborn as sns\n",
    "from PIL import Image\n",
    "%matplotlib inline"
   ]
  },
  {
   "cell_type": "code",
   "execution_count": 2,
   "id": "3dc419b7-b47a-4cd1-9153-ac69a84e87ab",
   "metadata": {},
   "outputs": [],
   "source": [
    "xs = np.linspace(start=-1, stop=1, num=20)\n",
    "ys = np.linspace(start=-1, stop=1, num=20)\n",
    "xv, yv = np.meshgrid(xs, ys)\n",
    "input_arr = np.stack((xv, yv), axis=2)"
   ]
  },
  {
   "cell_type": "code",
   "execution_count": 3,
   "id": "85f40866-e530-4689-8993-644a9dc77965",
   "metadata": {},
   "outputs": [],
   "source": [
    "dist_to_origin = np.sum(np.square(input_arr), axis=2, keepdims=True)"
   ]
  },
  {
   "cell_type": "code",
   "execution_count": 4,
   "id": "b3005d1d-3cd4-455a-8b20-b387e55b1616",
   "metadata": {},
   "outputs": [
    {
     "data": {
      "text/plain": [
       "((20, 20, 2), (20, 20, 1))"
      ]
     },
     "execution_count": 4,
     "metadata": {},
     "output_type": "execute_result"
    }
   ],
   "source": [
    "input_arr.shape, dist_to_origin.shape"
   ]
  },
  {
   "cell_type": "code",
   "execution_count": 5,
   "id": "9c8afb6d-a437-43d3-bf01-928126fc6e3f",
   "metadata": {},
   "outputs": [
    {
     "data": {
      "image/png": "[encoded data removed]",
      "text/plain": [
       "<Figure size 432x288 with 2 Axes>"
      ]
     },
     "metadata": {
      "needs_background": "light"
     },
     "output_type": "display_data"
    }
   ],
   "source": [
    "plt.imshow(dist_to_origin)\n",
    "plt.colorbar()\n",
    "plt.show()"
   ]
  },
  {
   "cell_type": "markdown",
   "id": "93d9a874-c63c-45f0-b087-be69efe82547",
   "metadata": {},
   "source": [
    "This is distance to origin that is implemented at the moment."
   ]
  },
  {
   "cell_type": "markdown",
   "id": "8d662164-bd9a-419c-8bbe-3f4054896844",
   "metadata": {},
   "source": [
    "Example of arbitrary points, drawn using https://www.pixilart.com/draw: ![](20x20dino.png)"
   ]
  },
  {
   "cell_type": "code",
   "execution_count": 6,
   "id": "d1a7539a-80b7-419e-9be1-9d53bbf4b141",
   "metadata": {},
   "outputs": [],
   "source": [
    "dino = 1 - np.array(Image.open(\"20x20dino.png\").convert(\"L\")) / 255"
   ]
  },
  {
   "cell_type": "code",
   "execution_count": 7,
   "id": "a083a16e-7d1f-43d1-b826-630adf679a1c",
   "metadata": {},
   "outputs": [
    {
     "data": {
      "text/plain": [
       "(20, 20)"
      ]
     },
     "execution_count": 7,
     "metadata": {},
     "output_type": "execute_result"
    }
   ],
   "source": [
    "dino.shape"
   ]
  },
  {
   "cell_type": "code",
   "execution_count": 8,
   "id": "3a9aa0e3-65e4-4dba-b0c0-140324ed6a6e",
   "metadata": {},
   "outputs": [
    {
     "data": {
      "image/png": "[encoded data removed]",
      "text/plain": [
       "<Figure size 432x288 with 2 Axes>"
      ]
     },
     "metadata": {
      "needs_background": "light"
     },
     "output_type": "display_data"
    }
   ],
   "source": [
    "plt.imshow(dino)\n",
    "plt.colorbar()\n",
    "plt.show()"
   ]
  },
  {
   "cell_type": "markdown",
   "id": "a008b31a-ee5b-480a-a591-a71eee4151ed",
   "metadata": {},
   "source": [
    "Now to calculate distance of every pixel to the closest pixel."
   ]
  },
  {
   "cell_type": "code",
   "execution_count": 26,
   "id": "01efc1af-21e3-400d-818e-22e2c2227e3f",
   "metadata": {},
   "outputs": [],
   "source": [
    "dists = np.full(shape=dino.shape, fill_value=np.nan)"
   ]
  },
  {
   "cell_type": "markdown",
   "id": "e2b377ff-91b2-45f6-8dec-f37c4f2a6263",
   "metadata": {},
   "source": [
    "### Naive for-loop"
   ]
  },
  {
   "cell_type": "markdown",
   "id": "d24d816d-f682-47ec-828e-ac537bcc1a5a",
   "metadata": {},
   "source": [
    "For every pixel in the pixel, find the closest point in the dino image and record distance. \n",
    "\n",
    "Mm, makes sense to transform the dino array to a sparse array and iterate over the data points. Should have runtime complexity of `O(h*w*num_ref_points)`, where `h` and `w` is the height and width of the distance matrix, and `num_ref_points` is the number of points in the reference array.\n",
    "\n",
    "There are a few sparse array formats, of which the COO format is easiest to use for this purpose."
   ]
  },
  {
   "cell_type": "code",
   "execution_count": 27,
   "id": "833ce44f-49e9-485b-a311-4dc79c93122b",
   "metadata": {},
   "outputs": [],
   "source": [
    "sparse_dino = scipy.sparse.coo_matrix(dino)"
   ]
  },
  {
   "cell_type": "code",
   "execution_count": 30,
   "id": "65a94cb4-9f4c-40ee-899f-5b9991e9b857",
   "metadata": {},
   "outputs": [],
   "source": [
    "for i in range(dists.shape[0]):\n",
    "    for j in range(dists.shape[1]):\n",
    "        # Init min dist to closest reference point, as max possible dist\n",
    "        min_dist = np.linalg.norm([dists.shape[0], dists.shape[1]])\n",
    "        anchor_point = (np.nan, np.nan)\n",
    "        # Have checked, NaNs are omitted so below returns all points of interest only\n",
    "        for ri, rj in zip(sparse_dino.row, sparse_dino.col):\n",
    "            if np.linalg.norm([i-ri, j-rj]) < min_dist:\n",
    "                anchor_point = (ri, rj)\n",
    "                min_dist = np.linalg.norm([i-ri, j-rj])\n",
    "        \n",
    "        # Update min_dist in array\n",
    "        dists[i, j] = min_dist"
   ]
  },
  {
   "cell_type": "code",
   "execution_count": 31,
   "id": "f1a5560b-6ead-4195-93b6-3a59beb01abe",
   "metadata": {},
   "outputs": [
    {
     "data": {
      "text/plain": [
       "<matplotlib.image.AxesImage at 0x7f7db6a03dc0>"
      ]
     },
     "execution_count": 31,
     "metadata": {},
     "output_type": "execute_result"
    },
    {
     "data": {
      "image/png": "[encoded data removed]",
      "text/plain": [
       "<Figure size 432x288 with 1 Axes>"
      ]
     },
     "metadata": {
      "needs_background": "light"
     },
     "output_type": "display_data"
    }
   ],
   "source": [
    "plt.imshow(dists)"
   ]
  },
  {
   "cell_type": "code",
   "execution_count": 32,
   "id": "4d34bd56-2ed1-4662-8dd1-8d4f4f24c119",
   "metadata": {},
   "outputs": [
    {
     "data": {
      "text/plain": [
       "<AxesSubplot:>"
      ]
     },
     "execution_count": 32,
     "metadata": {},
     "output_type": "execute_result"
    },
    {
     "data": {
      "image/png": "[encoded data removed]",
      "text/plain": [
       "<Figure size 1008x1008 with 2 Axes>"
      ]
     },
     "metadata": {
      "needs_background": "light"
     },
     "output_type": "display_data"
    }
   ],
   "source": [
    "fig, ax = plt.subplots(figsize=(14, 14))\n",
    "sns.heatmap(dists, annot=True, ax=ax)"
   ]
  },
  {
   "cell_type": "markdown",
   "id": "1877333a-285a-482a-8add-e09eef667598",
   "metadata": {},
   "source": [
    "Cool, now to package into a function and move on."
   ]
  },
  {
   "cell_type": "code",
   "execution_count": 36,
   "id": "6b4f4516-d46b-41d2-a50d-e202e7f6d408",
   "metadata": {},
   "outputs": [],
   "source": [
    "def find_min_dist_mat(R: np.ndarray) -> np.ndarray:\n",
    "    \"\"\"\n",
    "    R is reference array\n",
    "    Returns distance array D\n",
    "    \"\"\"\n",
    "    D = np.full(shape=R.shape, fill_value=np.nan)\n",
    "    sparse_R = scipy.sparse.coo_matrix(R)\n",
    "    \n",
    "    for i in range(D.shape[0]):\n",
    "        for j in range(D.shape[1]):\n",
    "            # Init min dist to closest reference point, as max possible dist\n",
    "            min_dist = np.linalg.norm([D.shape[0], D.shape[1]])\n",
    "            anchor_point = (np.nan, np.nan)\n",
    "            # Have checked, NaNs are omitted so below returns all points of interest only\n",
    "            for ri, rj in zip(sparse_R.row, sparse_R.col):\n",
    "                if np.linalg.norm([i-ri, j-rj]) < min_dist:\n",
    "                    anchor_point = (ri, rj)\n",
    "                    min_dist = np.linalg.norm([i-ri, j-rj])\n",
    "\n",
    "            # Update min_dist in array\n",
    "            D[i, j] = min_dist\n",
    "    \n",
    "    return D"
   ]
  },
  {
   "cell_type": "markdown",
   "id": "72f93ccf-c5a1-43ef-a2c3-a828cb2f5c20",
   "metadata": {},
   "source": [
    "### Fitting this into the existing workflow"
   ]
  },
  {
   "cell_type": "markdown",
   "id": "a5b7911d-16d4-4cc0-9ee7-2285e551cf9e",
   "metadata": {},
   "source": [
    "This feature requires modifying the Net class to handle an extra dim during initialization, and also modifying `create_input` to incorporate the logic."
   ]
  },
  {
   "cell_type": "markdown",
   "id": "b280339c-bb84-4794-a67b-ec561c8048e5",
   "metadata": {},
   "source": [
    "Doing modification of `create_input` here:"
   ]
  },
  {
   "cell_type": "code",
   "execution_count": 35,
   "id": "ef4a226b-026e-428a-abf7-843a21b620db",
   "metadata": {},
   "outputs": [],
   "source": [
    "from typing import Optional"
   ]
  },
  {
   "cell_type": "code",
   "execution_count": 38,
   "id": "465adc89-3d72-42cb-9c0d-e89434e2309c",
   "metadata": {},
   "outputs": [],
   "source": [
    "def create_input(\n",
    "    img_width: int,\n",
    "    img_height: int,\n",
    "    include_dist_to_origin: bool = True,\n",
    "    R: Optional[np.ndarray] = None,\n",
    "    xs_start: float = -1,\n",
    "    xs_stop: float = 1,\n",
    "    ys_start: float = -1,\n",
    "    ys_stop: float = 1,\n",
    ") -> np.ndarray:\n",
    "    \"\"\"\n",
    "    Creates the input for the generative net.\n",
    "\n",
    "    Input\n",
    "    -----\n",
    "    img_width, img_height: int\n",
    "    include_dist_to_origin: bool\n",
    "    R is a reference array that is an extension of include_dist_to_origin\n",
    "\n",
    "    Output\n",
    "    ------\n",
    "    input_arr: np.ndarray\n",
    "        Should have shape (img_width * img_height, 2)\n",
    "    \"\"\"\n",
    "    if min_dist_matrix is not None:\n",
    "        assert isinstance(min_dist_matrix, np.ndarray)\n",
    "        assert min_dist_matrix.shape == (img_width, img_height)\n",
    "    \n",
    "    # Create vectors of xs and ys\n",
    "    xs = np.linspace(start=-1, stop=1, num=img_width)\n",
    "    ys = np.linspace(start=-1, stop=1, num=img_height)\n",
    "\n",
    "    # Use np.meshgrid to create a mesh grid\n",
    "    xv, yv = np.meshgrid(xs, ys)\n",
    "    input_arr = np.stack((xv, yv), axis=2)\n",
    "    \n",
    "    # Reshape input to NN as one row per pixel\n",
    "    input_arr = input_arr.reshape(img_width * img_height, 2)\n",
    "    \n",
    "    if include_dist_to_origin:\n",
    "        dist_to_origin = np.sum(np.square(input_arr), axis=2, keepdims=True)\n",
    "        dist_to_origin = dist_to_origin.reshape(img_width * img_height, 1)\n",
    "        input_arr = np.concatenate([input_arr, dist_to_origin], axis=2)\n",
    "\n",
    "    if min_dist_mat is not None:\n",
    "        # Find min_dist_matrix from R, and reformat into correct input shape\n",
    "        min_dist_mat = find_min_dist_mat(R)\n",
    "        min_dist_mat = min_dist_mat.reshape(img_width * img_height, 1)\n",
    "        input_arr = np.concatenate([input_arr, min_dist_mat], axis=2)\n",
    "        \n",
    "    return input_arr"
   ]
  },
  {
   "cell_type": "markdown",
   "id": "044a740c-796c-4ab7-8712-30f757da1eb7",
   "metadata": {},
   "source": [
    "Doing the rest of the integration directly in the code base and in a separate POC module."
   ]
  },
  {
   "cell_type": "markdown",
   "id": "5e4e9862-de10-447c-bb32-6dd3dec0f065",
   "metadata": {},
   "source": [
    "Implemented, realized that the runtime is a bit too long. Haven't tested that yet here."
   ]
  },
  {
   "cell_type": "code",
   "execution_count": 40,
   "id": "fa6d09a6-ca68-4b32-947a-e6f97fee2b2a",
   "metadata": {},
   "outputs": [],
   "source": [
    "smiley = 1 - np.array(Image.open(\"160x90-smiley.png\").convert(\"L\")) / 255"
   ]
  },
  {
   "cell_type": "code",
   "execution_count": 56,
   "id": "3d0a61f8-4585-4f72-997c-b2332cae0d1d",
   "metadata": {},
   "outputs": [],
   "source": [
    "im = Image.open(\"160x90-smiley.png\")"
   ]
  },
  {
   "cell_type": "code",
   "execution_count": 57,
   "id": "ee3416a1-21ee-4bc4-a312-352713e385f9",
   "metadata": {},
   "outputs": [
    {
     "data": {
      "image/png": "[encoded data removed]",
      "text/plain": [
       "<PIL.PngImagePlugin.PngImageFile image mode=RGBA size=160x90 at 0x7F7DB47627F0>"
      ]
     },
     "execution_count": 57,
     "metadata": {},
     "output_type": "execute_result"
    }
   ],
   "source": [
    "im"
   ]
  },
  {
   "cell_type": "code",
   "execution_count": 58,
   "id": "4f15920b-1971-4f8a-9135-a1029af58174",
   "metadata": {},
   "outputs": [
    {
     "data": {
      "image/png": "[encoded data removed]",
      "text/plain": [
       "<PIL.Image.Image image mode=L size=160x90 at 0x7F7DB4752310>"
      ]
     },
     "execution_count": 58,
     "metadata": {},
     "output_type": "execute_result"
    }
   ],
   "source": [
    "im.convert(\"L\")"
   ]
  },
  {
   "cell_type": "markdown",
   "id": "87ec36a8-e530-4887-9224-77873dd63dd2",
   "metadata": {},
   "source": [
    "The dino PNG had all the blank space explicitly filled with white, this image has not."
   ]
  },
  {
   "cell_type": "code",
   "execution_count": 62,
   "id": "f5df73ed-1771-4c5e-a909-ce26a4df2d5e",
   "metadata": {},
   "outputs": [
    {
     "data": {
      "text/plain": [
       "'RGBA'"
      ]
     },
     "execution_count": 62,
     "metadata": {},
     "output_type": "execute_result"
    }
   ],
   "source": [
    "im.mode"
   ]
  },
  {
   "cell_type": "code",
   "execution_count": 63,
   "id": "d371d099-01cb-4084-ad2a-6b7e44b978c0",
   "metadata": {},
   "outputs": [
    {
     "data": {
      "image/png": "[encoded data removed]",
      "text/plain": [
       "<PIL.Image.Image image mode=RGB size=160x90 at 0x7F7DB4DB61C0>"
      ]
     },
     "execution_count": 63,
     "metadata": {},
     "output_type": "execute_result"
    }
   ],
   "source": [
    "im.convert(\"RGB\")"
   ]
  },
  {
   "cell_type": "markdown",
   "id": "165b6b2b-f464-4848-9e5c-a2f465d4d65d",
   "metadata": {},
   "source": [
    "Hah. Need to handle the alpha channel."
   ]
  },
  {
   "cell_type": "code",
   "execution_count": 65,
   "id": "7f5aa010-e206-49a0-99d6-7c418fd3aabe",
   "metadata": {},
   "outputs": [],
   "source": [
    "# ref: https://stackoverflow.com/a/33507138/13095028\n",
    "background = Image.new('RGBA', im.size, (255,255,255))\n",
    "alpha_composite = Image.alpha_composite(background, im)"
   ]
  },
  {
   "cell_type": "code",
   "execution_count": 67,
   "id": "6ad25d00-3348-446e-93b1-91693ea8f6dc",
   "metadata": {},
   "outputs": [
    {
     "data": {
      "image/png": "[encoded data removed]",
      "text/plain": [
       "<PIL.Image.Image image mode=L size=160x90 at 0x7F7DB4DBC370>"
      ]
     },
     "execution_count": 67,
     "metadata": {},
     "output_type": "execute_result"
    }
   ],
   "source": [
    "alpha_composite.convert(\"L\")"
   ]
  },
  {
   "cell_type": "code",
   "execution_count": 68,
   "id": "4eadf073-8dcf-4690-8cc5-319c81e7d0d7",
   "metadata": {},
   "outputs": [],
   "source": [
    "smiley = 1 - np.array(alpha_composite.convert(\"L\")) / 255"
   ]
  },
  {
   "cell_type": "code",
   "execution_count": 69,
   "id": "dc71cd53-2b31-4a8a-91bc-43cc2d5b25fe",
   "metadata": {},
   "outputs": [
    {
     "data": {
      "text/plain": [
       "<matplotlib.colorbar.Colorbar at 0x7f7db4fcf4f0>"
      ]
     },
     "execution_count": 69,
     "metadata": {},
     "output_type": "execute_result"
    },
    {
     "data": {
      "image/png": "[encoded data removed]",
      "text/plain": [
       "<Figure size 432x288 with 2 Axes>"
      ]
     },
     "metadata": {
      "needs_background": "light"
     },
     "output_type": "display_data"
    }
   ],
   "source": [
    "plt.imshow(smiley)\n",
    "plt.colorbar()"
   ]
  },
  {
   "cell_type": "markdown",
   "id": "dfc2304f-3673-46c8-af4b-40667a6d4ba0",
   "metadata": {},
   "source": [
    "Input issue rectified."
   ]
  },
  {
   "cell_type": "code",
   "execution_count": 87,
   "id": "f50d8033-3798-4bc8-a626-26be6775d7f2",
   "metadata": {},
   "outputs": [],
   "source": [
    "def im_png_to_arr(im):\n",
    "    # ref: https://stackoverflow.com/a/33507138/13095028\n",
    "    background = Image.new('RGBA', im.size, (255,255,255))\n",
    "    alpha_composite = Image.alpha_composite(background, im)\n",
    "    return 1 - np.array(alpha_composite.convert(\"L\")) / 255"
   ]
  },
  {
   "cell_type": "code",
   "execution_count": 88,
   "id": "9f574fc4-dcfd-4d29-9d19-994dcee7a321",
   "metadata": {},
   "outputs": [],
   "source": [
    "smiley = im_png_to_arr(Image.open(\"160x90-smiley.png\"))"
   ]
  },
  {
   "cell_type": "code",
   "execution_count": 78,
   "id": "f2a42602-66ad-4b56-8dc9-c3ee36840c58",
   "metadata": {},
   "outputs": [],
   "source": [
    "sp_smiley = scipy.sparse.coo_matrix(smiley)"
   ]
  },
  {
   "cell_type": "code",
   "execution_count": 80,
   "id": "e0771b9f-a7ad-4908-a088-fbb7144733b3",
   "metadata": {},
   "outputs": [
    {
     "data": {
      "text/plain": [
       "175"
      ]
     },
     "execution_count": 80,
     "metadata": {},
     "output_type": "execute_result"
    }
   ],
   "source": [
    "len(sp_smiley.data)"
   ]
  },
  {
   "cell_type": "markdown",
   "id": "8dea0940-d6e2-45dc-b8df-59d5178ce93b",
   "metadata": {},
   "source": [
    "175 points total!"
   ]
  },
  {
   "cell_type": "code",
   "execution_count": 81,
   "id": "e1a757c3-b833-41a1-a84a-ae91c611b21f",
   "metadata": {},
   "outputs": [],
   "source": [
    "D = find_min_dist_mat(smiley)"
   ]
  },
  {
   "cell_type": "code",
   "execution_count": 82,
   "id": "afdb9025-ff38-4303-a3ee-cfd163360808",
   "metadata": {},
   "outputs": [
    {
     "name": "stdout",
     "output_type": "stream",
     "text": [
      "1min 13s ± 2.95 s per loop (mean ± std. dev. of 7 runs, 1 loop each)\n"
     ]
    }
   ],
   "source": [
    "%%timeit\n",
    "find_min_dist_mat(smiley)"
   ]
  },
  {
   "cell_type": "code",
   "execution_count": 85,
   "id": "4fab3919-92c8-431d-a931-0eaf51b2b5a7",
   "metadata": {},
   "outputs": [],
   "source": [
    "np.save(\"160x90-D.npy\", D)"
   ]
  },
  {
   "cell_type": "markdown",
   "id": "28d5b81d-9b0a-4b22-82bf-f9fac4b7738a",
   "metadata": {},
   "source": [
    "Toy problem had 20x20 = 400 points multiplied by <100 points for the dino, so tops out at running logic for 40k times. This image is 160x90=14400 multipled by 175 points = 2.52 mil points. Ehh. Scaling is oof for something beyond toy size.\n",
    "\n",
    "Easiest way to do this practically is to parallelize the calculations. Algorithmically, a good method is to divide the points into regions designated by quadtrees, so that the points that need to be looked up are drastically less than the whole set. But also thinking of a dynamic programming method to encode distance."
   ]
  }
 ],
 "metadata": {
  "kernelspec": {
   "display_name": "Python [conda env:nn-gen-art]",
   "language": "python",
   "name": "conda-env-nn-gen-art-py"
  },
  "language_info": {
   "codemirror_mode": {
    "name": "ipython",
    "version": 3
   },
   "file_extension": ".py",
   "mimetype": "text/x-python",
   "name": "python",
   "nbconvert_exporter": "python",
   "pygments_lexer": "ipython3",
   "version": "3.8.5"
  },
  "widgets": {
   "application/vnd.jupyter.widget-state+json": {
    "state": {},
    "version_major": 2,
    "version_minor": 0
   }
  }
 },
 "nbformat": 4,
 "nbformat_minor": 5
}

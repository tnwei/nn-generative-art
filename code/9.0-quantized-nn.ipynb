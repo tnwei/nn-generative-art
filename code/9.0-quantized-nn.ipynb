{
 "cells": [
  {
   "cell_type": "markdown",
   "metadata": {},
   "source": [
    "# Creating quantized implementation"
   ]
  },
  {
   "cell_type": "code",
   "execution_count": 1,
   "metadata": {},
   "outputs": [],
   "source": [
    "import matplotlib.pyplot as plt\n",
    "%matplotlib inline"
   ]
  },
  {
   "cell_type": "code",
   "execution_count": 2,
   "metadata": {},
   "outputs": [],
   "source": [
    "import numpy as np"
   ]
  },
  {
   "cell_type": "code",
   "execution_count": 3,
   "metadata": {},
   "outputs": [],
   "source": [
    "import torch\n",
    "import torch.nn as nn"
   ]
  },
  {
   "cell_type": "markdown",
   "metadata": {},
   "source": [
    "## Work on creating proof of concept"
   ]
  },
  {
   "cell_type": "markdown",
   "metadata": {},
   "source": [
    "Realized not too sure how to approach this. Do I go w/ a network that is designed to run on qints through and through? Or do I need to go through some quantization prep."
   ]
  },
  {
   "cell_type": "code",
   "execution_count": 4,
   "metadata": {},
   "outputs": [],
   "source": [
    "x = torch.tensor(np.linspace(-4, 4, 100)).float()"
   ]
  },
  {
   "cell_type": "code",
   "execution_count": 5,
   "metadata": {},
   "outputs": [],
   "source": [
    "qx = torch.quantize_per_tensor(x, scale=0.025, zero_point=0, dtype=torch.qint8)"
   ]
  },
  {
   "cell_type": "code",
   "execution_count": 6,
   "metadata": {},
   "outputs": [
    {
     "data": {
      "text/plain": [
       "tensor([-3.2000, -3.2000, -3.2000, -3.2000, -3.2000, -3.2000, -3.2000, -3.2000,\n",
       "        -3.2000, -3.2000, -3.2000, -3.1000, -3.0250, -2.9500, -2.8750, -2.8000,\n",
       "        -2.7000, -2.6250, -2.5500, -2.4750, -2.3750, -2.3000, -2.2250, -2.1500,\n",
       "        -2.0500, -1.9750, -1.9000, -1.8250, -1.7250, -1.6500, -1.5750, -1.5000,\n",
       "        -1.4250, -1.3250, -1.2500, -1.1750, -1.1000, -1.0000, -0.9250, -0.8500,\n",
       "        -0.7750, -0.6750, -0.6000, -0.5250, -0.4500, -0.3750, -0.2750, -0.2000,\n",
       "        -0.1250, -0.0500,  0.0500,  0.1250,  0.2000,  0.2750,  0.3750,  0.4500,\n",
       "         0.5250,  0.6000,  0.6750,  0.7750,  0.8500,  0.9250,  1.0000,  1.1000,\n",
       "         1.1750,  1.2500,  1.3250,  1.4250,  1.5000,  1.5750,  1.6500,  1.7250,\n",
       "         1.8250,  1.9000,  1.9750,  2.0500,  2.1500,  2.2250,  2.3000,  2.3750,\n",
       "         2.4750,  2.5500,  2.6250,  2.7000,  2.8000,  2.8750,  2.9500,  3.0250,\n",
       "         3.1000,  3.1750,  3.1750,  3.1750,  3.1750,  3.1750,  3.1750,  3.1750,\n",
       "         3.1750,  3.1750,  3.1750,  3.1750], size=(100,), dtype=torch.qint8,\n",
       "       quantization_scheme=torch.per_tensor_affine, scale=0.025, zero_point=0)"
      ]
     },
     "execution_count": 6,
     "metadata": {},
     "output_type": "execute_result"
    }
   ],
   "source": [
    "qx"
   ]
  },
  {
   "cell_type": "code",
   "execution_count": 7,
   "metadata": {},
   "outputs": [],
   "source": [
    "lin = nn.Linear(in_features=100, out_features=10)"
   ]
  },
  {
   "cell_type": "code",
   "execution_count": 8,
   "metadata": {},
   "outputs": [],
   "source": [
    "# lin(qx)\n",
    "# \n",
    "# Normal layers cannot process quantized input"
   ]
  },
  {
   "cell_type": "code",
   "execution_count": 9,
   "metadata": {},
   "outputs": [],
   "source": [
    "# This kills the kernel! \n",
    "# torch.backends.quantized.engine = \"fbgemm\"\n",
    "# This doesn't!\n",
    "torch.backends.quantized.engine = \"qnnpack\""
   ]
  },
  {
   "cell_type": "code",
   "execution_count": 10,
   "metadata": {},
   "outputs": [],
   "source": [
    "qlin = nn.quantized.Linear(in_features=100, out_features=10, dtype=torch.qint8)"
   ]
  },
  {
   "cell_type": "code",
   "execution_count": 11,
   "metadata": {},
   "outputs": [],
   "source": [
    "qx_batch = torch.unsqueeze(qx, dim=0)"
   ]
  },
  {
   "cell_type": "code",
   "execution_count": 12,
   "metadata": {},
   "outputs": [
    {
     "data": {
      "text/plain": [
       "tensor([[-3.2000, -3.2000, -3.2000, -3.2000, -3.2000, -3.2000, -3.2000, -3.2000,\n",
       "         -3.2000, -3.2000, -3.2000, -3.1000, -3.0250, -2.9500, -2.8750, -2.8000,\n",
       "         -2.7000, -2.6250, -2.5500, -2.4750, -2.3750, -2.3000, -2.2250, -2.1500,\n",
       "         -2.0500, -1.9750, -1.9000, -1.8250, -1.7250, -1.6500, -1.5750, -1.5000,\n",
       "         -1.4250, -1.3250, -1.2500, -1.1750, -1.1000, -1.0000, -0.9250, -0.8500,\n",
       "         -0.7750, -0.6750, -0.6000, -0.5250, -0.4500, -0.3750, -0.2750, -0.2000,\n",
       "         -0.1250, -0.0500,  0.0500,  0.1250,  0.2000,  0.2750,  0.3750,  0.4500,\n",
       "          0.5250,  0.6000,  0.6750,  0.7750,  0.8500,  0.9250,  1.0000,  1.1000,\n",
       "          1.1750,  1.2500,  1.3250,  1.4250,  1.5000,  1.5750,  1.6500,  1.7250,\n",
       "          1.8250,  1.9000,  1.9750,  2.0500,  2.1500,  2.2250,  2.3000,  2.3750,\n",
       "          2.4750,  2.5500,  2.6250,  2.7000,  2.8000,  2.8750,  2.9500,  3.0250,\n",
       "          3.1000,  3.1750,  3.1750,  3.1750,  3.1750,  3.1750,  3.1750,  3.1750,\n",
       "          3.1750,  3.1750,  3.1750,  3.1750]], size=(1, 100),\n",
       "       dtype=torch.qint8, quantization_scheme=torch.per_tensor_affine,\n",
       "       scale=0.025, zero_point=0)"
      ]
     },
     "execution_count": 12,
     "metadata": {},
     "output_type": "execute_result"
    }
   ],
   "source": [
    "qx_batch"
   ]
  },
  {
   "cell_type": "code",
   "execution_count": 13,
   "metadata": {},
   "outputs": [],
   "source": [
    "# qlin(qx_batch)"
   ]
  },
  {
   "cell_type": "markdown",
   "metadata": {},
   "source": [
    "```\n",
    "---------------------------------------------------------------------------\n",
    "RuntimeError                              Traceback (most recent call last)\n",
    "<ipython-input-22-94699bf1c3c8> in <module>\n",
    "----> 1 qlin(torch.unsqueeze(qx, dim=0))\n",
    "\n",
    "~/miniconda3/envs/nn-gen-art/lib/python3.8/site-packages/torch/nn/modules/module.py in _call_impl(self, *input, **kwargs)\n",
    "    725             result = self._slow_forward(*input, **kwargs)\n",
    "    726         else:\n",
    "--> 727             result = self.forward(*input, **kwargs)\n",
    "    728         for hook in itertools.chain(\n",
    "    729                 _global_forward_hooks.values(),\n",
    "\n",
    "~/miniconda3/envs/nn-gen-art/lib/python3.8/site-packages/torch/nn/quantized/modules/linear.py in forward(self, x)\n",
    "    164 \n",
    "    165     def forward(self, x):\n",
    "--> 166         return torch.ops.quantized.linear(\n",
    "    167             x, self._packed_params._packed_params, self.scale, self.zero_point)\n",
    "    168 \n",
    "\n",
    "RuntimeError: expected scalar type QUInt8 but found QInt8\n",
    "```"
   ]
  },
  {
   "cell_type": "markdown",
   "metadata": {},
   "source": [
    "So ... quantized linear layer only works on quint8? Mm yeah apparently so from https://pytorch.org/docs/stable/torch.nn.quantized.html#torch.nn.quantized.functional.linear"
   ]
  },
  {
   "cell_type": "markdown",
   "metadata": {},
   "source": [
    "Well, encode into quint8 I guess."
   ]
  },
  {
   "cell_type": "code",
   "execution_count": 14,
   "metadata": {},
   "outputs": [],
   "source": [
    "qx_uint = torch.quantize_per_tensor(x, scale=0.025, zero_point=128, dtype=torch.quint8)"
   ]
  },
  {
   "cell_type": "code",
   "execution_count": 15,
   "metadata": {},
   "outputs": [
    {
     "data": {
      "text/plain": [
       "tensor([-3.2000, -3.2000, -3.2000, -3.2000, -3.2000, -3.2000, -3.2000, -3.2000,\n",
       "        -3.2000, -3.2000, -3.2000, -3.1000, -3.0250, -2.9500, -2.8750, -2.8000,\n",
       "        -2.7000, -2.6250, -2.5500, -2.4750, -2.3750, -2.3000, -2.2250, -2.1500,\n",
       "        -2.0500, -1.9750, -1.9000, -1.8250, -1.7250, -1.6500, -1.5750, -1.5000,\n",
       "        -1.4250, -1.3250, -1.2500, -1.1750, -1.1000, -1.0000, -0.9250, -0.8500,\n",
       "        -0.7750, -0.6750, -0.6000, -0.5250, -0.4500, -0.3750, -0.2750, -0.2000,\n",
       "        -0.1250, -0.0500,  0.0500,  0.1250,  0.2000,  0.2750,  0.3750,  0.4500,\n",
       "         0.5250,  0.6000,  0.6750,  0.7750,  0.8500,  0.9250,  1.0000,  1.1000,\n",
       "         1.1750,  1.2500,  1.3250,  1.4250,  1.5000,  1.5750,  1.6500,  1.7250,\n",
       "         1.8250,  1.9000,  1.9750,  2.0500,  2.1500,  2.2250,  2.3000,  2.3750,\n",
       "         2.4750,  2.5500,  2.6250,  2.7000,  2.8000,  2.8750,  2.9500,  3.0250,\n",
       "         3.1000,  3.1750,  3.1750,  3.1750,  3.1750,  3.1750,  3.1750,  3.1750,\n",
       "         3.1750,  3.1750,  3.1750,  3.1750], size=(100,), dtype=torch.quint8,\n",
       "       quantization_scheme=torch.per_tensor_affine, scale=0.025, zero_point=128)"
      ]
     },
     "execution_count": 15,
     "metadata": {},
     "output_type": "execute_result"
    }
   ],
   "source": [
    "qx_uint"
   ]
  },
  {
   "cell_type": "code",
   "execution_count": 16,
   "metadata": {},
   "outputs": [
    {
     "data": {
      "text/plain": [
       "tensor(True)"
      ]
     },
     "execution_count": 16,
     "metadata": {},
     "output_type": "execute_result"
    }
   ],
   "source": [
    "torch.isclose(torch.dequantize(qx_uint), torch.dequantize(qx)).all()"
   ]
  },
  {
   "cell_type": "code",
   "execution_count": 17,
   "metadata": {},
   "outputs": [],
   "source": [
    "qx_batch = torch.unsqueeze(qx_uint, dim=0)"
   ]
  },
  {
   "cell_type": "code",
   "execution_count": 18,
   "metadata": {},
   "outputs": [
    {
     "data": {
      "text/plain": [
       "tensor([[  0.,   0., 255.,   0., 255.,   0.,   0., 255.,   0., 255.]],\n",
       "       size=(1, 10), dtype=torch.quint8,\n",
       "       quantization_scheme=torch.per_tensor_affine, scale=1.0, zero_point=0)"
      ]
     },
     "execution_count": 18,
     "metadata": {},
     "output_type": "execute_result"
    }
   ],
   "source": [
    "qlin(qx_batch)"
   ]
  },
  {
   "cell_type": "markdown",
   "metadata": {},
   "source": [
    "Hmmm okay."
   ]
  },
  {
   "cell_type": "markdown",
   "metadata": {},
   "source": [
    "## Get a whole net of quantized linear layers to work"
   ]
  },
  {
   "cell_type": "markdown",
   "metadata": {},
   "source": [
    "This net takes quint8 input and returns qint8 output. No conversion w/ floats required throughout the whole process."
   ]
  },
  {
   "cell_type": "code",
   "execution_count": 58,
   "metadata": {},
   "outputs": [],
   "source": [
    "class LinearNetAllQuant(nn.Module):\n",
    "    def __init__(self, in_features: int = 10):\n",
    "        super().__init__()\n",
    "        self.fc1 = nn.quantized.Linear(in_features=in_features, out_features=10, dtype=torch.qint8)\n",
    "        self.fc2 = nn.quantized.Linear(in_features=10, out_features=1, dtype=torch.qint8)\n",
    "    \n",
    "    def forward(self, x: torch.Tensor):\n",
    "        y = self.fc1(x)\n",
    "        y = self.fc2(y)\n",
    "        return y"
   ]
  },
  {
   "cell_type": "code",
   "execution_count": 59,
   "metadata": {},
   "outputs": [],
   "source": [
    "net = LinearNetAllQuant(4)"
   ]
  },
  {
   "cell_type": "code",
   "execution_count": 31,
   "metadata": {},
   "outputs": [],
   "source": [
    "x = torch.normal(mean=0, std=1, size=(100, 4))"
   ]
  },
  {
   "cell_type": "code",
   "execution_count": 32,
   "metadata": {},
   "outputs": [],
   "source": [
    "qx = torch.quantize_per_tensor(x, scale=0.025, zero_point=128, dtype=torch.quint8)"
   ]
  },
  {
   "cell_type": "code",
   "execution_count": 38,
   "metadata": {},
   "outputs": [],
   "source": [
    "y = net(qx)"
   ]
  },
  {
   "cell_type": "code",
   "execution_count": 41,
   "metadata": {},
   "outputs": [
    {
     "name": "stdout",
     "output_type": "stream",
     "text": [
      "Input dtype is torch.quint8, output dtype is torch.quint8\n"
     ]
    }
   ],
   "source": [
    "print(f\"Input dtype is {qx.dtype}, output dtype is {y.dtype}\")"
   ]
  },
  {
   "cell_type": "code",
   "execution_count": 46,
   "metadata": {},
   "outputs": [
    {
     "data": {
      "text/plain": [
       "(torch.qint8, torch.float32)"
      ]
     },
     "execution_count": 46,
     "metadata": {},
     "output_type": "execute_result"
    }
   ],
   "source": [
    "net.fc1.weight().dtype, net.fc1.bias().dtype, "
   ]
  },
  {
   "cell_type": "markdown",
   "metadata": {},
   "source": [
    "Quantized Linear layers have float32 bias datatype!"
   ]
  },
  {
   "cell_type": "code",
   "execution_count": 53,
   "metadata": {},
   "outputs": [],
   "source": [
    "y1 = net.fc1(qx)"
   ]
  },
  {
   "cell_type": "code",
   "execution_count": 55,
   "metadata": {},
   "outputs": [
    {
     "data": {
      "text/plain": [
       "torch.quint8"
      ]
     },
     "execution_count": 55,
     "metadata": {},
     "output_type": "execute_result"
    }
   ],
   "source": [
    "y1.dtype"
   ]
  },
  {
   "cell_type": "markdown",
   "metadata": {},
   "source": [
    "Output of layer 1, which is fed into layer 2, is also quint8."
   ]
  },
  {
   "cell_type": "markdown",
   "metadata": {},
   "source": [
    "## Get a net of quantized linear layers to work"
   ]
  },
  {
   "cell_type": "markdown",
   "metadata": {},
   "source": [
    "This net is the same as above, but takes a float input, and converts to a float output. Here is where we can try out two of the three quantizatoin methods in Pytorch: dynamic quantization and static quantization. Quant-aware training is not relevant since we're not training anything!"
   ]
  },
  {
   "cell_type": "markdown",
   "metadata": {},
   "source": [
    "### Dynamic quantization"
   ]
  },
  {
   "cell_type": "code",
   "execution_count": 72,
   "metadata": {},
   "outputs": [],
   "source": [
    "class LinearNetDynamicQuant(nn.Module):\n",
    "    def __init__(self, in_features: int = 10):\n",
    "        super().__init__()\n",
    "        # This is a normal net! \n",
    "        self.fc1 = nn.Linear(in_features=in_features, out_features=10)\n",
    "        self.fc2 = nn.Linear(in_features=10, out_features=1)\n",
    "    \n",
    "    def forward(self, x: torch.Tensor):\n",
    "        y = self.fc1(x)\n",
    "        y = self.fc2(y)\n",
    "        return y"
   ]
  },
  {
   "cell_type": "code",
   "execution_count": 73,
   "metadata": {},
   "outputs": [],
   "source": [
    "net = LinearNetDynamicQuant(4)"
   ]
  },
  {
   "cell_type": "code",
   "execution_count": 75,
   "metadata": {},
   "outputs": [],
   "source": [
    "y = net(x)"
   ]
  },
  {
   "cell_type": "code",
   "execution_count": 76,
   "metadata": {},
   "outputs": [
    {
     "data": {
      "text/plain": [
       "(torch.float32, torch.float32)"
      ]
     },
     "execution_count": 76,
     "metadata": {},
     "output_type": "execute_result"
    }
   ],
   "source": [
    "x.dtype, y.dtype"
   ]
  },
  {
   "cell_type": "markdown",
   "metadata": {},
   "source": [
    "This is a normal net."
   ]
  },
  {
   "cell_type": "code",
   "execution_count": 77,
   "metadata": {},
   "outputs": [],
   "source": [
    "qnet = torch.quantization.quantize_dynamic(net)"
   ]
  },
  {
   "cell_type": "code",
   "execution_count": 78,
   "metadata": {},
   "outputs": [
    {
     "data": {
      "text/plain": [
       "LinearNetDynamicQuant(\n",
       "  (fc1): DynamicQuantizedLinear(in_features=4, out_features=10, dtype=torch.qint8, qscheme=torch.per_tensor_affine)\n",
       "  (fc2): DynamicQuantizedLinear(in_features=10, out_features=1, dtype=torch.qint8, qscheme=torch.per_tensor_affine)\n",
       ")"
      ]
     },
     "execution_count": 78,
     "metadata": {},
     "output_type": "execute_result"
    }
   ],
   "source": [
    "qnet"
   ]
  },
  {
   "cell_type": "code",
   "execution_count": 80,
   "metadata": {},
   "outputs": [],
   "source": [
    "y = qnet(x)"
   ]
  },
  {
   "cell_type": "code",
   "execution_count": 81,
   "metadata": {},
   "outputs": [
    {
     "data": {
      "text/plain": [
       "(torch.float32, torch.float32)"
      ]
     },
     "execution_count": 81,
     "metadata": {},
     "output_type": "execute_result"
    }
   ],
   "source": [
    "x.dtype, y.dtype"
   ]
  },
  {
   "cell_type": "markdown",
   "metadata": {},
   "source": [
    "This dynamically quantized net takes and returns floats."
   ]
  },
  {
   "cell_type": "code",
   "execution_count": 86,
   "metadata": {},
   "outputs": [
    {
     "data": {
      "text/plain": [
       "(torch.qint8, torch.float32)"
      ]
     },
     "execution_count": 86,
     "metadata": {},
     "output_type": "execute_result"
    }
   ],
   "source": [
    "qnet.fc1.weight().dtype, qnet.fc1.bias().dtype"
   ]
  },
  {
   "cell_type": "markdown",
   "metadata": {},
   "source": [
    "Expected."
   ]
  },
  {
   "cell_type": "code",
   "execution_count": 84,
   "metadata": {},
   "outputs": [
    {
     "data": {
      "text/plain": [
       "tensor([[-0.3165, -0.3399,  0.1016, -0.4962],\n",
       "        [-0.5001, -0.2266, -0.4532,  0.3165],\n",
       "        [ 0.2657, -0.2383,  0.2266, -0.4923],\n",
       "        [-0.1797, -0.3946, -0.1133,  0.4220],\n",
       "        [ 0.0860,  0.2813, -0.4923,  0.2813],\n",
       "        [ 0.3907, -0.0039,  0.2696,  0.2852],\n",
       "        [-0.0703, -0.1211,  0.0313, -0.2579],\n",
       "        [ 0.3907,  0.1680,  0.1680,  0.4728],\n",
       "        [ 0.2188,  0.2032, -0.4611,  0.0742],\n",
       "        [-0.2969, -0.4884,  0.4650,  0.0274]], size=(10, 4), dtype=torch.qint8,\n",
       "       quantization_scheme=torch.per_tensor_affine, scale=0.003907228820025921,\n",
       "       zero_point=0)"
      ]
     },
     "execution_count": 84,
     "metadata": {},
     "output_type": "execute_result"
    }
   ],
   "source": [
    "qnet.fc1.weight()"
   ]
  },
  {
   "cell_type": "code",
   "execution_count": 85,
   "metadata": {},
   "outputs": [
    {
     "data": {
      "text/plain": [
       "tensor([ 0.0889, -0.1870,  0.3478, -0.0904, -0.4911, -0.1838, -0.1109, -0.1258,\n",
       "         0.3060, -0.4888], grad_fn=<CopyBackwards>)"
      ]
     },
     "execution_count": 85,
     "metadata": {},
     "output_type": "execute_result"
    }
   ],
   "source": [
    "qnet.fc1.bias()"
   ]
  },
  {
   "cell_type": "code",
   "execution_count": 87,
   "metadata": {},
   "outputs": [],
   "source": [
    "y1 = qnet.fc1(x)"
   ]
  },
  {
   "cell_type": "code",
   "execution_count": 89,
   "metadata": {},
   "outputs": [
    {
     "data": {
      "text/plain": [
       "torch.float32"
      ]
     },
     "execution_count": 89,
     "metadata": {},
     "output_type": "execute_result"
    }
   ],
   "source": [
    "y1.dtype"
   ]
  },
  {
   "cell_type": "markdown",
   "metadata": {},
   "source": [
    "The output of the linear layer is still a float."
   ]
  },
  {
   "cell_type": "markdown",
   "metadata": {},
   "source": [
    "### Static quantization"
   ]
  },
  {
   "cell_type": "code",
   "execution_count": 90,
   "metadata": {},
   "outputs": [],
   "source": [
    "class LinearNetStaticQuant(nn.Module):\n",
    "    def __init__(self, in_features: int = 10):\n",
    "        super().__init__()\n",
    "        self.quant = torch.quantization.QuantStub()\n",
    "        # Note that these are the normal Linear layers\n",
    "        self.fc1 = nn.Linear(in_features=in_features, out_features=10)\n",
    "        self.fc2 = nn.Linear(in_features=10, out_features=1)\n",
    "        self.dequant = torch.quantization.DeQuantStub()\n",
    "    \n",
    "    def forward(self, x: torch.Tensor):\n",
    "        y = self.quant(x)\n",
    "        y = self.fc1(y)\n",
    "        y = self.fc2(y)\n",
    "        y = self.dequant(y)\n",
    "        return y"
   ]
  },
  {
   "cell_type": "code",
   "execution_count": 91,
   "metadata": {},
   "outputs": [],
   "source": [
    "net = LinearNetStaticQuant(4)"
   ]
  },
  {
   "cell_type": "code",
   "execution_count": 114,
   "metadata": {},
   "outputs": [],
   "source": [
    "net.qconfig = torch.quantization.get_default_qconfig('qnnpack')"
   ]
  },
  {
   "cell_type": "code",
   "execution_count": 115,
   "metadata": {},
   "outputs": [],
   "source": [
    "# Quantized layers wouldn't pass this function!\n",
    "prepped_net = torch.quantization.prepare(net)"
   ]
  },
  {
   "cell_type": "code",
   "execution_count": 116,
   "metadata": {},
   "outputs": [
    {
     "data": {
      "text/plain": [
       "LinearNetStaticQuant(\n",
       "  (quant): QuantStub(\n",
       "    (activation_post_process): HistogramObserver()\n",
       "  )\n",
       "  (fc1): Linear(\n",
       "    in_features=4, out_features=10, bias=True\n",
       "    (activation_post_process): HistogramObserver()\n",
       "  )\n",
       "  (fc2): Linear(\n",
       "    in_features=10, out_features=1, bias=True\n",
       "    (activation_post_process): HistogramObserver()\n",
       "  )\n",
       "  (dequant): DeQuantStub()\n",
       ")"
      ]
     },
     "execution_count": 116,
     "metadata": {},
     "output_type": "execute_result"
    }
   ],
   "source": [
    "prepped_net"
   ]
  },
  {
   "cell_type": "code",
   "execution_count": 120,
   "metadata": {},
   "outputs": [],
   "source": [
    "# Calibration of prepped net\n",
    "y = prepped_net(x)"
   ]
  },
  {
   "cell_type": "code",
   "execution_count": 122,
   "metadata": {},
   "outputs": [],
   "source": [
    "qnet = torch.quantization.convert(prepped_net)"
   ]
  },
  {
   "cell_type": "code",
   "execution_count": 123,
   "metadata": {},
   "outputs": [
    {
     "data": {
      "text/plain": [
       "LinearNetStaticQuant(\n",
       "  (quant): Quantize(scale=tensor([0.0238]), zero_point=tensor([148]), dtype=torch.quint8)\n",
       "  (fc1): QuantizedLinear(in_features=4, out_features=10, scale=0.01829962432384491, zero_point=148, qscheme=torch.per_tensor_affine)\n",
       "  (fc2): QuantizedLinear(in_features=10, out_features=1, scale=0.002619570353999734, zero_point=255, qscheme=torch.per_tensor_affine)\n",
       "  (dequant): DeQuantize()\n",
       ")"
      ]
     },
     "execution_count": 123,
     "metadata": {},
     "output_type": "execute_result"
    }
   ],
   "source": [
    "qnet"
   ]
  },
  {
   "cell_type": "code",
   "execution_count": 127,
   "metadata": {},
   "outputs": [],
   "source": [
    "y = qnet(x)"
   ]
  },
  {
   "cell_type": "code",
   "execution_count": 128,
   "metadata": {},
   "outputs": [
    {
     "data": {
      "text/plain": [
       "(torch.float32, torch.float32)"
      ]
     },
     "execution_count": 128,
     "metadata": {},
     "output_type": "execute_result"
    }
   ],
   "source": [
    "x.dtype, y.dtype"
   ]
  },
  {
   "cell_type": "code",
   "execution_count": 132,
   "metadata": {},
   "outputs": [],
   "source": [
    "y1 = qnet.fc1(qx)"
   ]
  },
  {
   "cell_type": "code",
   "execution_count": 133,
   "metadata": {},
   "outputs": [
    {
     "data": {
      "text/plain": [
       "torch.quint8"
      ]
     },
     "execution_count": 133,
     "metadata": {},
     "output_type": "execute_result"
    }
   ],
   "source": [
    "y1.dtype"
   ]
  },
  {
   "cell_type": "markdown",
   "metadata": {},
   "source": [
    "So the benefit of using static quantization is that the int conversions only occur at the quant and dequant stubs. Dynamic quantization will do this packing and unpacking at every layer! \n",
    "\n",
    "For my use case, static quantization is better over dynamic quantization. Doing manual quantization is pretty much the same as static quantization except the quantization itself is calibrated to the data. Starting to get the impression that end users are not meant to implement the quantized layers by hand, but via the quantization steps in Pytorch docs."
   ]
  },
  {
   "cell_type": "markdown",
   "metadata": {},
   "source": [
    "## Get a net with activations to work through quantization"
   ]
  },
  {
   "cell_type": "markdown",
   "metadata": {},
   "source": [
    "### Dynamic quant for nets with activations"
   ]
  },
  {
   "cell_type": "code",
   "execution_count": 136,
   "metadata": {},
   "outputs": [],
   "source": [
    "class LinearNetDynamicQuant(nn.Module):\n",
    "    def __init__(self, in_features: int = 10):\n",
    "        super().__init__()\n",
    "        # This is a normal net! \n",
    "        self.fc1 = nn.Linear(in_features=in_features, out_features=10)\n",
    "        self.tanh1 = nn.Tanh()\n",
    "        self.fc2 = nn.Linear(in_features=10, out_features=1)\n",
    "        self.tanh2 = nn.Tanh()\n",
    "    \n",
    "    def forward(self, x: torch.Tensor):\n",
    "        y = self.fc1(x)\n",
    "        y = self.tanh1(y)\n",
    "        y = self.fc2(y)\n",
    "        y = self.tanh2(y)\n",
    "        return y"
   ]
  },
  {
   "cell_type": "code",
   "execution_count": 137,
   "metadata": {},
   "outputs": [],
   "source": [
    "net = LinearNetDynamicQuant(4)"
   ]
  },
  {
   "cell_type": "code",
   "execution_count": 138,
   "metadata": {},
   "outputs": [],
   "source": [
    "y = net(x)"
   ]
  },
  {
   "cell_type": "code",
   "execution_count": 139,
   "metadata": {},
   "outputs": [
    {
     "data": {
      "text/plain": [
       "(torch.float32, torch.float32)"
      ]
     },
     "execution_count": 139,
     "metadata": {},
     "output_type": "execute_result"
    }
   ],
   "source": [
    "x.dtype, y.dtype"
   ]
  },
  {
   "cell_type": "code",
   "execution_count": 140,
   "metadata": {},
   "outputs": [],
   "source": [
    "qnet = torch.quantization.quantize_dynamic(net)"
   ]
  },
  {
   "cell_type": "code",
   "execution_count": 141,
   "metadata": {},
   "outputs": [
    {
     "data": {
      "text/plain": [
       "LinearNetDynamicQuant(\n",
       "  (fc1): DynamicQuantizedLinear(in_features=4, out_features=10, dtype=torch.qint8, qscheme=torch.per_tensor_affine)\n",
       "  (tanh1): Tanh()\n",
       "  (fc2): DynamicQuantizedLinear(in_features=10, out_features=1, dtype=torch.qint8, qscheme=torch.per_tensor_affine)\n",
       "  (tanh2): Tanh()\n",
       ")"
      ]
     },
     "execution_count": 141,
     "metadata": {},
     "output_type": "execute_result"
    }
   ],
   "source": [
    "qnet"
   ]
  },
  {
   "cell_type": "code",
   "execution_count": 142,
   "metadata": {},
   "outputs": [],
   "source": [
    "y = qnet(x)"
   ]
  },
  {
   "cell_type": "code",
   "execution_count": 143,
   "metadata": {},
   "outputs": [
    {
     "data": {
      "text/plain": [
       "(torch.float32, torch.float32)"
      ]
     },
     "execution_count": 143,
     "metadata": {},
     "output_type": "execute_result"
    }
   ],
   "source": [
    "x.dtype, y.dtype"
   ]
  },
  {
   "cell_type": "code",
   "execution_count": 145,
   "metadata": {},
   "outputs": [
    {
     "data": {
      "text/plain": [
       "(torch.qint8, torch.float32)"
      ]
     },
     "execution_count": 145,
     "metadata": {},
     "output_type": "execute_result"
    }
   ],
   "source": [
    "qnet.fc1.weight().dtype, qnet.fc1.bias().dtype"
   ]
  },
  {
   "cell_type": "code",
   "execution_count": 148,
   "metadata": {},
   "outputs": [
    {
     "data": {
      "text/plain": [
       "Tanh()"
      ]
     },
     "execution_count": 148,
     "metadata": {},
     "output_type": "execute_result"
    }
   ],
   "source": [
    "qnet.tanh1"
   ]
  },
  {
   "cell_type": "markdown",
   "metadata": {},
   "source": [
    "Expected."
   ]
  },
  {
   "cell_type": "code",
   "execution_count": 149,
   "metadata": {},
   "outputs": [],
   "source": [
    "y1 = qnet.fc1(x)"
   ]
  },
  {
   "cell_type": "code",
   "execution_count": 150,
   "metadata": {},
   "outputs": [
    {
     "data": {
      "text/plain": [
       "torch.float32"
      ]
     },
     "execution_count": 150,
     "metadata": {},
     "output_type": "execute_result"
    }
   ],
   "source": [
    "y1.dtype"
   ]
  },
  {
   "cell_type": "code",
   "execution_count": 151,
   "metadata": {},
   "outputs": [
    {
     "data": {
      "text/plain": [
       "Tanh()"
      ]
     },
     "execution_count": 151,
     "metadata": {},
     "output_type": "execute_result"
    }
   ],
   "source": [
    "qnet.tanh1"
   ]
  },
  {
   "cell_type": "code",
   "execution_count": 155,
   "metadata": {},
   "outputs": [
    {
     "data": {
      "text/plain": [
       "torch.float32"
      ]
     },
     "execution_count": 155,
     "metadata": {},
     "output_type": "execute_result"
    }
   ],
   "source": [
    "qnet.tanh1(x).dtype"
   ]
  },
  {
   "cell_type": "markdown",
   "metadata": {},
   "source": [
    "No change to activations in dynamic quantization."
   ]
  },
  {
   "cell_type": "markdown",
   "metadata": {},
   "source": [
    "### Static quantization"
   ]
  },
  {
   "cell_type": "markdown",
   "metadata": {},
   "source": [
    "In this net, we placed one tanh between quant stubs, and one tanh out of quant stubs."
   ]
  },
  {
   "cell_type": "code",
   "execution_count": 195,
   "metadata": {},
   "outputs": [],
   "source": [
    "class LinearNetStaticQuant(nn.Module):\n",
    "    def __init__(self, in_features: int = 10):\n",
    "        super().__init__()\n",
    "        self.quant = torch.quantization.QuantStub()\n",
    "        # Note that these are the normal Linear layers\n",
    "        self.fc1 = nn.Linear(in_features=in_features, out_features=10)\n",
    "        self.tanh1 = nn.Tanh()\n",
    "        self.fc2 = nn.Linear(in_features=10, out_features=1)\n",
    "        self.tanh2 = nn.Tanh()\n",
    "        self.dequant = torch.quantization.DeQuantStub()\n",
    "    \n",
    "    def forward(self, x: torch.Tensor):\n",
    "        y = self.quant(x)\n",
    "        y = self.fc1(y)\n",
    "        y = self.tanh1(y)\n",
    "        y = self.fc2(y)\n",
    "        y = self.dequant(y)\n",
    "        y = self.tanh2(y)\n",
    "        return y"
   ]
  },
  {
   "cell_type": "code",
   "execution_count": 196,
   "metadata": {},
   "outputs": [],
   "source": [
    "net = LinearNetStaticQuant(4)"
   ]
  },
  {
   "cell_type": "code",
   "execution_count": 197,
   "metadata": {},
   "outputs": [],
   "source": [
    "net.qconfig = torch.quantization.get_default_qconfig('qnnpack')"
   ]
  },
  {
   "cell_type": "code",
   "execution_count": 198,
   "metadata": {},
   "outputs": [],
   "source": [
    "# Quantized layers wouldn't pass this function!\n",
    "prepped_net = torch.quantization.prepare(net)"
   ]
  },
  {
   "cell_type": "code",
   "execution_count": 199,
   "metadata": {},
   "outputs": [
    {
     "data": {
      "text/plain": [
       "LinearNetStaticQuant(\n",
       "  (quant): QuantStub(\n",
       "    (activation_post_process): HistogramObserver()\n",
       "  )\n",
       "  (fc1): Linear(\n",
       "    in_features=4, out_features=10, bias=True\n",
       "    (activation_post_process): HistogramObserver()\n",
       "  )\n",
       "  (tanh1): Tanh()\n",
       "  (fc2): Linear(\n",
       "    in_features=10, out_features=1, bias=True\n",
       "    (activation_post_process): HistogramObserver()\n",
       "  )\n",
       "  (tanh2): Tanh()\n",
       "  (dequant): DeQuantStub()\n",
       ")"
      ]
     },
     "execution_count": 199,
     "metadata": {},
     "output_type": "execute_result"
    }
   ],
   "source": [
    "prepped_net"
   ]
  },
  {
   "cell_type": "code",
   "execution_count": 200,
   "metadata": {},
   "outputs": [],
   "source": [
    "# Calibration of prepped net\n",
    "y = prepped_net(x)"
   ]
  },
  {
   "cell_type": "code",
   "execution_count": 201,
   "metadata": {},
   "outputs": [],
   "source": [
    "qnet = torch.quantization.convert(prepped_net)"
   ]
  },
  {
   "cell_type": "code",
   "execution_count": 202,
   "metadata": {},
   "outputs": [
    {
     "data": {
      "text/plain": [
       "LinearNetStaticQuant(\n",
       "  (quant): Quantize(scale=tensor([0.0238]), zero_point=tensor([148]), dtype=torch.quint8)\n",
       "  (fc1): QuantizedLinear(in_features=4, out_features=10, scale=0.016543732956051826, zero_point=135, qscheme=torch.per_tensor_affine)\n",
       "  (tanh1): Tanh()\n",
       "  (fc2): QuantizedLinear(in_features=10, out_features=1, scale=0.007816036231815815, zero_point=113, qscheme=torch.per_tensor_affine)\n",
       "  (tanh2): Tanh()\n",
       "  (dequant): DeQuantize()\n",
       ")"
      ]
     },
     "execution_count": 202,
     "metadata": {},
     "output_type": "execute_result"
    }
   ],
   "source": [
    "qnet"
   ]
  },
  {
   "cell_type": "code",
   "execution_count": 203,
   "metadata": {},
   "outputs": [],
   "source": [
    "y = qnet(x)"
   ]
  },
  {
   "cell_type": "code",
   "execution_count": 207,
   "metadata": {},
   "outputs": [
    {
     "data": {
      "text/plain": [
       "tensor([ 0.5272,  0.7001,  0.5042,  0.6712, -0.1854,  0.1167,  0.0156, -0.1703,\n",
       "         0.2303,  0.5655])"
      ]
     },
     "execution_count": 207,
     "metadata": {},
     "output_type": "execute_result"
    }
   ],
   "source": [
    "y[:10, 0]"
   ]
  },
  {
   "cell_type": "code",
   "execution_count": 166,
   "metadata": {},
   "outputs": [
    {
     "data": {
      "text/plain": [
       "(torch.float32, torch.float32)"
      ]
     },
     "execution_count": 166,
     "metadata": {},
     "output_type": "execute_result"
    }
   ],
   "source": [
    "x.dtype, y.dtype"
   ]
  },
  {
   "cell_type": "code",
   "execution_count": 167,
   "metadata": {},
   "outputs": [],
   "source": [
    "y1 = qnet.fc1(qx)"
   ]
  },
  {
   "cell_type": "code",
   "execution_count": 168,
   "metadata": {},
   "outputs": [
    {
     "data": {
      "text/plain": [
       "torch.quint8"
      ]
     },
     "execution_count": 168,
     "metadata": {},
     "output_type": "execute_result"
    }
   ],
   "source": [
    "y1.dtype"
   ]
  },
  {
   "cell_type": "code",
   "execution_count": 170,
   "metadata": {},
   "outputs": [],
   "source": [
    "y2 = qnet.tanh1(y1)"
   ]
  },
  {
   "cell_type": "code",
   "execution_count": 172,
   "metadata": {},
   "outputs": [
    {
     "data": {
      "text/plain": [
       "(torch.quint8, torch.quint8)"
      ]
     },
     "execution_count": 172,
     "metadata": {},
     "output_type": "execute_result"
    }
   ],
   "source": [
    "y1.dtype, y2.dtype"
   ]
  },
  {
   "cell_type": "markdown",
   "metadata": {},
   "source": [
    "Surprisingly, tanh can take quantized input and output quantized output?"
   ]
  },
  {
   "cell_type": "code",
   "execution_count": 177,
   "metadata": {},
   "outputs": [
    {
     "data": {
      "text/plain": [
       "(torch.float32, torch.quint8)"
      ]
     },
     "execution_count": 177,
     "metadata": {},
     "output_type": "execute_result"
    }
   ],
   "source": [
    "qnet.tanh2(x).dtype, qnet.tanh2(qx).dtype"
   ]
  },
  {
   "cell_type": "markdown",
   "metadata": {},
   "source": [
    "Didn't know tanh is quantization-agnostic in torch. More on this later."
   ]
  },
  {
   "cell_type": "markdown",
   "metadata": {},
   "source": [
    "How about no dequantstub?"
   ]
  },
  {
   "cell_type": "code",
   "execution_count": 327,
   "metadata": {},
   "outputs": [],
   "source": [
    "class LinearNetStaticQuantNoDeQuant(nn.Module):\n",
    "    def __init__(self, in_features: int = 10):\n",
    "        super().__init__()\n",
    "        self.quant = torch.quantization.QuantStub()\n",
    "        # Note that these are the normal Linear layers\n",
    "        self.fc1 = nn.Linear(in_features=in_features, out_features=10)\n",
    "        self.tanh1 = nn.Tanh()\n",
    "        self.fc2 = nn.Linear(in_features=10, out_features=1)\n",
    "        self.tanh2 = nn.Tanh()\n",
    "        # self.dequant = torch.quantization.DeQuantStub()\n",
    "    \n",
    "    def forward(self, x: torch.Tensor):\n",
    "        y = self.quant(x)\n",
    "        y = self.fc1(y)\n",
    "        y = self.tanh1(y)\n",
    "        y = self.fc2(y)\n",
    "        # y = self.dequant(y)\n",
    "        y = self.tanh2(y)\n",
    "        return y"
   ]
  },
  {
   "cell_type": "code",
   "execution_count": 328,
   "metadata": {},
   "outputs": [],
   "source": [
    "net = LinearNetStaticQuantNoDeQuant(4)"
   ]
  },
  {
   "cell_type": "code",
   "execution_count": 329,
   "metadata": {},
   "outputs": [],
   "source": [
    "net.qconfig = torch.quantization.get_default_qconfig('qnnpack')"
   ]
  },
  {
   "cell_type": "code",
   "execution_count": 330,
   "metadata": {},
   "outputs": [],
   "source": [
    "# Quantized layers wouldn't pass this function!\n",
    "prepped_net = torch.quantization.prepare(net)"
   ]
  },
  {
   "cell_type": "code",
   "execution_count": 331,
   "metadata": {},
   "outputs": [
    {
     "data": {
      "text/plain": [
       "LinearNetStaticQuantNoDeQuant(\n",
       "  (quant): QuantStub(\n",
       "    (activation_post_process): HistogramObserver()\n",
       "  )\n",
       "  (fc1): Linear(\n",
       "    in_features=4, out_features=10, bias=True\n",
       "    (activation_post_process): HistogramObserver()\n",
       "  )\n",
       "  (tanh1): Tanh()\n",
       "  (fc2): Linear(\n",
       "    in_features=10, out_features=1, bias=True\n",
       "    (activation_post_process): HistogramObserver()\n",
       "  )\n",
       "  (tanh2): Tanh()\n",
       ")"
      ]
     },
     "execution_count": 331,
     "metadata": {},
     "output_type": "execute_result"
    }
   ],
   "source": [
    "prepped_net"
   ]
  },
  {
   "cell_type": "code",
   "execution_count": 333,
   "metadata": {},
   "outputs": [],
   "source": [
    "# Calibration of prepped net\n",
    "# y = prepped_net(x)"
   ]
  },
  {
   "cell_type": "markdown",
   "metadata": {},
   "source": [
    "```\n",
    "RuntimeError: mat1 and mat2 shapes cannot be multiplied (102400x6 and 4x10)\n",
    "```\n",
    "\n",
    "Can't forward completely!"
   ]
  },
  {
   "cell_type": "markdown",
   "metadata": {},
   "source": [
    "## Quantized net with manually specified quantization mixed with activations"
   ]
  },
  {
   "cell_type": "code",
   "execution_count": 188,
   "metadata": {},
   "outputs": [],
   "source": [
    "class LinearNetAllQuantWithActivation(nn.Module):\n",
    "    def __init__(self, in_features: int = 10):\n",
    "        super().__init__()\n",
    "        self.fc1 = nn.quantized.Linear(in_features=in_features, out_features=10)\n",
    "        self.tanh1 = nn.Tanh()\n",
    "        self.fc2 = nn.quantized.Linear(in_features=10, out_features=1)\n",
    "        self.tanh2 = nn.Tanh()\n",
    "    \n",
    "    def forward(self, x: torch.Tensor):\n",
    "        y = self.fc1(x)\n",
    "        y = self.tanh1(y)\n",
    "        y = self.fc2(y)\n",
    "        y = self.tanh2(y)\n",
    "        return y"
   ]
  },
  {
   "cell_type": "code",
   "execution_count": 209,
   "metadata": {},
   "outputs": [],
   "source": [
    "qnet = LinearNetAllQuantWithActivation(4)"
   ]
  },
  {
   "cell_type": "code",
   "execution_count": 210,
   "metadata": {},
   "outputs": [],
   "source": [
    "qy = qnet(qx)"
   ]
  },
  {
   "cell_type": "code",
   "execution_count": 211,
   "metadata": {},
   "outputs": [],
   "source": [
    "y = torch.dequantize(qy)"
   ]
  },
  {
   "cell_type": "code",
   "execution_count": 194,
   "metadata": {},
   "outputs": [],
   "source": [
    "# y"
   ]
  },
  {
   "cell_type": "markdown",
   "metadata": {},
   "source": [
    "qy output was all zeros, which is terrible! Realized that quantization parameters for individual quantized Linear layers cannot be set during layer init."
   ]
  },
  {
   "cell_type": "code",
   "execution_count": 215,
   "metadata": {},
   "outputs": [
    {
     "data": {
      "text/plain": [
       "(1.0, 0)"
      ]
     },
     "execution_count": 215,
     "metadata": {},
     "output_type": "execute_result"
    }
   ],
   "source": [
    "qnet.fc1.scale, qnet.fc1.zero_point"
   ]
  },
  {
   "cell_type": "markdown",
   "metadata": {},
   "source": [
    "The quantization parameters are accessible but need to be set manually. Therefore, this needs to be something like this:"
   ]
  },
  {
   "cell_type": "code",
   "execution_count": 216,
   "metadata": {},
   "outputs": [],
   "source": [
    "class LinearNetAllQuantWithActivation(nn.Module):\n",
    "    def __init__(self, in_features: int = 10):\n",
    "        super().__init__()\n",
    "        self.fc1 = nn.quantized.Linear(in_features=in_features, out_features=10)\n",
    "        self.tanh1 = nn.Tanh()\n",
    "        self.fc2 = nn.quantized.Linear(in_features=10, out_features=1)\n",
    "        self.tanh2 = nn.Tanh()\n",
    "        \n",
    "        self.fc1.zero_point = 128\n",
    "        self.fc2.scale = 0.025\n",
    "        self.fc1.zero_point = 128\n",
    "        self.fc2.scale = 0.025\n",
    "    \n",
    "    def forward(self, x: torch.Tensor):\n",
    "        y = self.fc1(x)\n",
    "        y = self.tanh1(y)\n",
    "        y = self.fc2(y)\n",
    "        y = self.tanh2(y)\n",
    "        return y"
   ]
  },
  {
   "cell_type": "code",
   "execution_count": 217,
   "metadata": {},
   "outputs": [],
   "source": [
    "qnet = LinearNetAllQuantWithActivation(4)"
   ]
  },
  {
   "cell_type": "code",
   "execution_count": 232,
   "metadata": {},
   "outputs": [],
   "source": [
    "# qnet.tanh1(qnet.fc1(qx))"
   ]
  },
  {
   "cell_type": "markdown",
   "metadata": {},
   "source": [
    "Noticed that the Tanh layers always use quint8 data type, 128 as zero point, and 0.0078125 as scale."
   ]
  },
  {
   "cell_type": "code",
   "execution_count": 230,
   "metadata": {},
   "outputs": [
    {
     "data": {
      "text/plain": [
       "tensor([-1.0000, -0.9766, -0.9609, -0.9375, -0.9219, -0.8984, -0.8750, -0.8594,\n",
       "        -0.8359, -0.8203, -0.7969, -0.7812, -0.7578, -0.7344, -0.7188, -0.6953,\n",
       "        -0.6797, -0.6562, -0.6328, -0.6172, -0.5938, -0.5781, -0.5547, -0.5391,\n",
       "        -0.5156, -0.4922, -0.4766, -0.4531, -0.4375, -0.4141, -0.3906, -0.3750,\n",
       "        -0.3516, -0.3359, -0.3125, -0.2891, -0.2734, -0.2500, -0.2344, -0.2109,\n",
       "        -0.1953, -0.1719, -0.1484, -0.1328, -0.1094, -0.0938, -0.0703, -0.0469,\n",
       "        -0.0312, -0.0078,  0.0078,  0.0312,  0.0469,  0.0703,  0.0938,  0.1094,\n",
       "         0.1328,  0.1484,  0.1719,  0.1953,  0.2109,  0.2344,  0.2500,  0.2734,\n",
       "         0.2891,  0.3125,  0.3359,  0.3516,  0.3750,  0.3906,  0.4141,  0.4375,\n",
       "         0.4531,  0.4766,  0.4922,  0.5156,  0.5391,  0.5547,  0.5781,  0.5938,\n",
       "         0.6172,  0.6328,  0.6562,  0.6797,  0.6953,  0.7188,  0.7344,  0.7578,\n",
       "         0.7812,  0.7969,  0.8203,  0.8359,  0.8594,  0.8750,  0.8984,  0.9219,\n",
       "         0.9375,  0.9609,  0.9766,  0.9922], size=(100,), dtype=torch.quint8,\n",
       "       quantization_scheme=torch.per_tensor_affine, scale=0.0078125,\n",
       "       zero_point=128)"
      ]
     },
     "execution_count": 230,
     "metadata": {},
     "output_type": "execute_result"
    }
   ],
   "source": [
    "torch.quantize_per_tensor(torch.tensor(np.linspace(-1, 1, 100)).float(), zero_point=128, scale=0.0078125, dtype=torch.quint8)"
   ]
  },
  {
   "cell_type": "code",
   "execution_count": 229,
   "metadata": {},
   "outputs": [
    {
     "data": {
      "text/plain": [
       "1.0"
      ]
     },
     "execution_count": 229,
     "metadata": {},
     "output_type": "execute_result"
    }
   ],
   "source": [
    "128 * 0.0078125"
   ]
  },
  {
   "cell_type": "markdown",
   "metadata": {},
   "source": [
    "Which actually splits the 128 steps above and below the zero point to neatly reach +/- 1.0 in 0.0078125 increments!"
   ]
  },
  {
   "cell_type": "markdown",
   "metadata": {},
   "source": [
    "Going to leave further work on quantizing the non-linear activations to the 7.0 notebook."
   ]
  },
  {
   "cell_type": "markdown",
   "metadata": {},
   "source": [
    "## Work on net generator"
   ]
  },
  {
   "cell_type": "markdown",
   "metadata": {},
   "source": [
    "Choosing to go with static quantization since it saves time from fiddling with individual layer quantization parameters."
   ]
  },
  {
   "cell_type": "code",
   "execution_count": 267,
   "metadata": {},
   "outputs": [],
   "source": [
    "from art import Net, generate_one_art, create_input"
   ]
  },
  {
   "cell_type": "code",
   "execution_count": 307,
   "metadata": {},
   "outputs": [],
   "source": [
    "class QuantizedNet(Net):\n",
    "    def init_arch(\n",
    "        self,\n",
    "        num_hidden_layers,\n",
    "        num_neurons,\n",
    "        latent_len,\n",
    "        include_bias,\n",
    "        include_dist_to_origin,\n",
    "        rgb,\n",
    "    ) -> nn.Sequential:\n",
    "        \n",
    "        layers = OrderedDict()\n",
    "\n",
    "        # Insert quantization\n",
    "        # Don't know what oddities will go into the top layer so keeping it out of quantization\n",
    "        # Edit: must start with this\n",
    "        layers.update({\"quant\": torch.quantization.QuantStub()})\n",
    "        \n",
    "        # Input layer\n",
    "        if include_dist_to_origin:\n",
    "            layers.update(\n",
    "                {\n",
    "                    # 3 base inputs per pixel: x, y, distance to origin\n",
    "                    # on top of the latent vector\n",
    "                    \"fc0\": nn.Linear(3 + latent_len, num_neurons, bias=include_bias),\n",
    "                    \"tanh0\": nn.Tanh(),\n",
    "                }\n",
    "            )\n",
    "\n",
    "        else:\n",
    "            layers.update(\n",
    "                {\n",
    "                    # 2 base inputs per pixel: x, y\n",
    "                    # on top of the latent vector\n",
    "                    \"fc0\": nn.Linear(2 + latent_len, num_neurons, bias=include_bias),\n",
    "                    \"tanh0\": nn.Tanh(),\n",
    "                }\n",
    "            )\n",
    "\n",
    "        \n",
    "            \n",
    "        # Hidden layers\n",
    "        for i in range(num_hidden_layers):\n",
    "            layers.update(\n",
    "                {\n",
    "                    \"fc\" + str(i + 1): nn.Linear(num_neurons, num_neurons, bias=False),\n",
    "                    \"tanh\" + str(i + 1): nn.Tanh(),\n",
    "                }\n",
    "            )\n",
    "            \n",
    "        # Output layer\n",
    "        if rgb:\n",
    "            layers.update(\n",
    "                {\n",
    "                    \"fc\" + str(i + 1 + 1): nn.Linear(num_neurons, 3, bias=False),\n",
    "                    \"sigmoid\": nn.Sigmoid(),\n",
    "                }\n",
    "            )\n",
    "        else:\n",
    "            layers.update(\n",
    "                {\n",
    "                    \"fc\" + str(i + 1 + 1): nn.Linear(num_neurons, 1, bias=False),\n",
    "                    \"sigmoid\": nn.Sigmoid(),\n",
    "                }\n",
    "            )\n",
    "\n",
    "        # End quantization\n",
    "        # Not too sure if the output layer should sit in this\n",
    "        # Edit: must end with this\n",
    "        layers.update({\"dequant\": torch.quantization.DeQuantStub()})\n",
    "\n",
    "            \n",
    "        # Assign layers to self.layers\n",
    "        return nn.Sequential(layers)\n",
    "    \n",
    "    def init_weights(self):\n",
    "        def layer_init_weights(m):\n",
    "            if isinstance(m, nn.Linear):\n",
    "                nn.init.normal_(m.weight, mean=0, std=1)\n",
    "        self.apply(layer_init_weights)\n",
    "        \n",
    "    def forward(self, input_vec):\n",
    "        x = self.layers(input_vec)\n",
    "        return x"
   ]
  },
  {
   "cell_type": "markdown",
   "metadata": {},
   "source": [
    "The forward function had to be modified because apparently no torch concat is allowed in forward for a net involving quantization!"
   ]
  },
  {
   "cell_type": "code",
   "execution_count": 308,
   "metadata": {},
   "outputs": [],
   "source": [
    "def modded_generate_one_art(\n",
    "    net: Net,\n",
    "    latent_vec: torch.Tensor,\n",
    "    input_config= {\"img_width\": 320, \"img_height\": 320},\n",
    ") -> np.ndarray:\n",
    "    # Create input to net, and convert from ndarray to torch.FloatTensor\n",
    "    net_input = torch.tensor(create_input(**input_config)).float()\n",
    "\n",
    "    # Create input array from latent_vec, and convert from ndarray to torch.FloatTensor\n",
    "    latent_vec = np.expand_dims(latent_vec, axis=0)\n",
    "    latent_vec = np.repeat(latent_vec, repeats=net_input.shape[0], axis=0)\n",
    "    latent_vec = torch.tensor(latent_vec).float()\n",
    "\n",
    "    assert net_input.shape == latent_vec.shape, (\n",
    "        \"Shape of net_input is \"\n",
    "        f\"{net_input.shape} while shape of latent_vec is {latent_vec.shape}\"\n",
    "    )\n",
    "    \n",
    "    x = torch.cat([net_input, latent_vec], dim=1)\n",
    "    \n",
    "    # Run input through net\n",
    "    net_output = net(x).detach().numpy()\n",
    "\n",
    "    # Reshape into (y, x, 3) for plotting in PIL\n",
    "    net_output = net_output.reshape(\n",
    "        input_config[\"img_height\"], input_config[\"img_width\"], -1\n",
    "    )\n",
    "\n",
    "    # Re-format to color output\n",
    "    # Scale to range 0 to 255, and set type to int\n",
    "    net_output = (net_output * 255).astype(np.uint8)\n",
    "    return net_output"
   ]
  },
  {
   "cell_type": "code",
   "execution_count": 309,
   "metadata": {},
   "outputs": [],
   "source": [
    "net = QuantizedNet(num_hidden_layers=2, num_neurons=64)"
   ]
  },
  {
   "cell_type": "markdown",
   "metadata": {},
   "source": [
    "### Using the net before quantization"
   ]
  },
  {
   "cell_type": "code",
   "execution_count": 310,
   "metadata": {},
   "outputs": [],
   "source": [
    "out = modded_generate_one_art(net, torch.normal(mean=0, std=1, size=(3,)))"
   ]
  },
  {
   "cell_type": "code",
   "execution_count": 311,
   "metadata": {},
   "outputs": [
    {
     "name": "stdout",
     "output_type": "stream",
     "text": [
      "102 ms ± 6.82 ms per loop (mean ± std. dev. of 7 runs, 10 loops each)\n"
     ]
    }
   ],
   "source": [
    "%%timeit\n",
    "out = modded_generate_one_art(net, torch.normal(mean=0, std=1, size=(3,)))"
   ]
  },
  {
   "cell_type": "code",
   "execution_count": 312,
   "metadata": {},
   "outputs": [
    {
     "data": {
      "text/plain": [
       "<matplotlib.image.AxesImage at 0x7fd49b223610>"
      ]
     },
     "execution_count": 312,
     "metadata": {},
     "output_type": "execute_result"
    },
    {
     "data": {
      "image/png": "[encoded data removed]",
      "text/plain": [
       "<Figure size 432x288 with 1 Axes>"
      ]
     },
     "metadata": {
      "needs_background": "light"
     },
     "output_type": "display_data"
    }
   ],
   "source": [
    "plt.imshow(out)"
   ]
  },
  {
   "cell_type": "markdown",
   "metadata": {},
   "source": [
    "Output looks valid."
   ]
  },
  {
   "cell_type": "code",
   "execution_count": 313,
   "metadata": {},
   "outputs": [],
   "source": [
    "net.qconfig = torch.quantization.get_default_qconfig('qnnpack')"
   ]
  },
  {
   "cell_type": "code",
   "execution_count": 314,
   "metadata": {},
   "outputs": [],
   "source": [
    "prepped_net = torch.quantization.prepare(net)"
   ]
  },
  {
   "cell_type": "code",
   "execution_count": 315,
   "metadata": {},
   "outputs": [
    {
     "data": {
      "text/plain": [
       "QuantizedNet(\n",
       "  (layers): Sequential(\n",
       "    (quant): QuantStub(\n",
       "      (activation_post_process): HistogramObserver()\n",
       "    )\n",
       "    (fc0): Linear(\n",
       "      in_features=6, out_features=64, bias=True\n",
       "      (activation_post_process): HistogramObserver()\n",
       "    )\n",
       "    (tanh0): Tanh()\n",
       "    (fc1): Linear(\n",
       "      in_features=64, out_features=64, bias=False\n",
       "      (activation_post_process): HistogramObserver()\n",
       "    )\n",
       "    (tanh1): Tanh()\n",
       "    (fc2): Linear(\n",
       "      in_features=64, out_features=64, bias=False\n",
       "      (activation_post_process): HistogramObserver()\n",
       "    )\n",
       "    (tanh2): Tanh()\n",
       "    (fc3): Linear(\n",
       "      in_features=64, out_features=3, bias=False\n",
       "      (activation_post_process): HistogramObserver()\n",
       "    )\n",
       "    (sigmoid): Sigmoid()\n",
       "    (dequant): DeQuantStub()\n",
       "  )\n",
       ")"
      ]
     },
     "execution_count": 315,
     "metadata": {},
     "output_type": "execute_result"
    }
   ],
   "source": [
    "prepped_net"
   ]
  },
  {
   "cell_type": "code",
   "execution_count": 316,
   "metadata": {},
   "outputs": [],
   "source": [
    "# Calibration of prepped net\n",
    "# y = prepped_net(x)\n",
    "out = modded_generate_one_art(prepped_net, torch.normal(mean=0, std=1, size=(3,)))"
   ]
  },
  {
   "cell_type": "code",
   "execution_count": 317,
   "metadata": {},
   "outputs": [
    {
     "data": {
      "text/plain": [
       "<matplotlib.image.AxesImage at 0x7fd49b17e6a0>"
      ]
     },
     "execution_count": 317,
     "metadata": {},
     "output_type": "execute_result"
    },
    {
     "data": {
      "image/png": "[encoded data removed]",
      "text/plain": [
       "<Figure size 432x288 with 1 Axes>"
      ]
     },
     "metadata": {
      "needs_background": "light"
     },
     "output_type": "display_data"
    }
   ],
   "source": [
    "plt.imshow(out)"
   ]
  },
  {
   "cell_type": "code",
   "execution_count": 318,
   "metadata": {},
   "outputs": [],
   "source": [
    "qnet = torch.quantization.convert(prepped_net)"
   ]
  },
  {
   "cell_type": "markdown",
   "metadata": {},
   "source": [
    "Trying it out:"
   ]
  },
  {
   "cell_type": "code",
   "execution_count": 319,
   "metadata": {},
   "outputs": [],
   "source": [
    "# out = modded_generate_one_art(qnet, torch.normal(mean=0, std=1, size=(3,)))"
   ]
  },
  {
   "cell_type": "markdown",
   "metadata": {},
   "source": [
    "```\n",
    "RuntimeError: Could not run 'quantized::linear' with arguments from the 'CPU' backend. 'quantized::linear' is only available for these backends: [QuantizedCPU, BackendSelect, Named, AutogradOther, AutogradCPU, AutogradCUDA, AutogradXLA, Tracer, Autocast, Batched, VmapMode].\n",
    "```\n",
    "\n",
    "Appears that non-quantized input made it into the net. I wonder why?"
   ]
  },
  {
   "cell_type": "code",
   "execution_count": 320,
   "metadata": {},
   "outputs": [],
   "source": [
    "net_input = torch.tensor(create_input(**{\"img_width\": 320, \"img_height\": 320})).float()\n",
    "latent_vec = torch.normal(mean=0, std=1, size=(3,))\n",
    "\n",
    "# Create input array from latent_vec, and convert from ndarray to torch.FloatTensor\n",
    "latent_vec = np.expand_dims(latent_vec, axis=0)\n",
    "latent_vec = np.repeat(latent_vec, repeats=net_input.shape[0], axis=0)\n",
    "latent_vec = torch.tensor(latent_vec).float()\n",
    "\n",
    "assert net_input.shape == latent_vec.shape, (\n",
    "    \"Shape of net_input is \"\n",
    "    f\"{net_input.shape} while shape of latent_vec is {latent_vec.shape}\"\n",
    ")\n",
    "\n",
    "x = torch.cat([net_input, latent_vec], dim=1)"
   ]
  },
  {
   "cell_type": "code",
   "execution_count": 321,
   "metadata": {},
   "outputs": [
    {
     "data": {
      "text/plain": [
       "torch.float32"
      ]
     },
     "execution_count": 321,
     "metadata": {},
     "output_type": "execute_result"
    }
   ],
   "source": [
    "x.dtype"
   ]
  },
  {
   "cell_type": "code",
   "execution_count": 322,
   "metadata": {},
   "outputs": [
    {
     "data": {
      "text/plain": [
       "tensor([[0.0000, 0.0000, 0.9961],\n",
       "        [0.0000, 0.0000, 0.9961],\n",
       "        [0.0000, 0.0000, 0.9961],\n",
       "        ...,\n",
       "        [0.8008, 0.0195, 0.0664],\n",
       "        [0.8477, 0.0195, 0.0781],\n",
       "        [0.8477, 0.0195, 0.0781]])"
      ]
     },
     "execution_count": 322,
     "metadata": {},
     "output_type": "execute_result"
    }
   ],
   "source": [
    "qnet(x)"
   ]
  },
  {
   "cell_type": "markdown",
   "metadata": {},
   "source": [
    "Same error. Appears that once quantized, the net is not supposed to contain any operations involving float inputs, even like the torch concat that occurs before forwarding info through the layers! Moved the quantstub to the first layer, still same error. Moved the dequantstub to the last layer, fixed. Appears that the static quantization process does not allow flexibility in mixing ints / floats."
   ]
  },
  {
   "cell_type": "code",
   "execution_count": 334,
   "metadata": {},
   "outputs": [],
   "source": [
    "out = modded_generate_one_art(qnet, torch.normal(mean=0, std=1, size=(3,)))"
   ]
  },
  {
   "cell_type": "code",
   "execution_count": 335,
   "metadata": {},
   "outputs": [
    {
     "data": {
      "text/plain": [
       "<matplotlib.image.AxesImage at 0x7fd49b9e1850>"
      ]
     },
     "execution_count": 335,
     "metadata": {},
     "output_type": "execute_result"
    },
    {
     "data": {
      "image/png": "[encoded data removed]",
      "text/plain": [
       "<Figure size 432x288 with 1 Axes>"
      ]
     },
     "metadata": {
      "needs_background": "light"
     },
     "output_type": "display_data"
    }
   ],
   "source": [
    "plt.imshow(out)"
   ]
  },
  {
   "cell_type": "markdown",
   "metadata": {},
   "source": [
    "A bit grainy from a full network quantization, which is a bit more than I wanted initially."
   ]
  },
  {
   "cell_type": "code",
   "execution_count": 337,
   "metadata": {},
   "outputs": [
    {
     "name": "stdout",
     "output_type": "stream",
     "text": [
      "142 ms ± 2.82 ms per loop (mean ± std. dev. of 7 runs, 10 loops each)\n"
     ]
    }
   ],
   "source": [
    "%%timeit\n",
    "out = modded_generate_one_art(qnet, torch.normal(mean=0, std=1, size=(3,)))"
   ]
  },
  {
   "cell_type": "code",
   "execution_count": 340,
   "metadata": {},
   "outputs": [],
   "source": [
    "a = torch.normal(mean=0, std=1, size=(3, 3, 1))"
   ]
  },
  {
   "cell_type": "code",
   "execution_count": 342,
   "metadata": {},
   "outputs": [
    {
     "data": {
      "text/plain": [
       "torch.Size([3, 3, 1])"
      ]
     },
     "execution_count": 342,
     "metadata": {},
     "output_type": "execute_result"
    }
   ],
   "source": [
    "a.size()"
   ]
  },
  {
   "cell_type": "code",
   "execution_count": 345,
   "metadata": {},
   "outputs": [
    {
     "data": {
      "text/plain": [
       "3"
      ]
     },
     "execution_count": 345,
     "metadata": {},
     "output_type": "execute_result"
    }
   ],
   "source": [
    "a.dim()"
   ]
  },
  {
   "cell_type": "code",
   "execution_count": 346,
   "metadata": {},
   "outputs": [
    {
     "data": {
      "text/plain": [
       "[0, 1, 2]"
      ]
     },
     "execution_count": 346,
     "metadata": {},
     "output_type": "execute_result"
    }
   ],
   "source": [
    "[i for i in range(a.dim())]"
   ]
  },
  {
   "cell_type": "markdown",
   "metadata": {},
   "source": [
    "Well, this is slower! "
   ]
  },
  {
   "cell_type": "markdown",
   "metadata": {},
   "source": [
    "I suppose I have achieved the purpose of this notebook which is to figure out doing this as quantized NNs. Doing performance comparisons need to be separated into another notebook."
   ]
  }
 ],
 "metadata": {
  "kernelspec": {
   "display_name": "Python [conda env:nn-gen-art]",
   "language": "python",
   "name": "conda-env-nn-gen-art-py"
  },
  "language_info": {
   "codemirror_mode": {
    "name": "ipython",
    "version": 3
   },
   "file_extension": ".py",
   "mimetype": "text/x-python",
   "name": "python",
   "nbconvert_exporter": "python",
   "pygments_lexer": "ipython3",
   "version": "3.8.5"
  },
  "widgets": {
   "application/vnd.jupyter.widget-state+json": {
    "state": {},
    "version_major": 2,
    "version_minor": 0
   }
  }
 },
 "nbformat": 4,
 "nbformat_minor": 4
}

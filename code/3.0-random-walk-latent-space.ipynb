{
 "cells": [
  {
   "cell_type": "markdown",
   "metadata": {},
   "source": [
    "# Touring the latent space"
   ]
  },
  {
   "cell_type": "code",
   "execution_count": 301,
   "metadata": {},
   "outputs": [],
   "source": [
    "import torch.nn as nn\n",
    "import torch\n",
    "from PIL import Image\n",
    "import cv2\n",
    "from tqdm import tqdm"
   ]
  },
  {
   "cell_type": "code",
   "execution_count": 125,
   "metadata": {},
   "outputs": [],
   "source": [
    "import numpy as np\n",
    "import matplotlib.pyplot as plt\n",
    "import random\n",
    "%matplotlib inline"
   ]
  },
  {
   "cell_type": "markdown",
   "metadata": {},
   "source": [
    "Interested in automating the process of exploring the latent space, could turn it into a screensaver or something."
   ]
  },
  {
   "cell_type": "markdown",
   "metadata": {},
   "source": [
    "## Weighted random walk"
   ]
  },
  {
   "cell_type": "markdown",
   "metadata": {},
   "source": [
    "In super simplistic terms, a random walk is basically adding to or subtracting from a variable with equal probability (more on [wikipedia](https://en.wikipedia.org/wiki/Random_walk)). Given my use case, I would like the random walk to not take the latent vector too far from 0, which is where it is centered, so that it is possible for the latent vector to continue to provide interesting input to the (currently) `tanh`-based generative network after many iterations. \n",
    "\n",
    "Came up with the idea of putting a soft leash on the range of values by weighing the probabilities, so that the further the values are from 0, the more likely it is that the random walk will turn the latent vector back. "
   ]
  },
  {
   "cell_type": "markdown",
   "metadata": {},
   "source": [
    "### Softmax-based weighting"
   ]
  },
  {
   "cell_type": "markdown",
   "metadata": {},
   "source": [
    "First idea that came to mind is to use a softmax to weigh the probabilities. Assume that the latent vector is in 2 dimensions. Thought about specifying a max radius from the origin, which represents the max distance that the latent vector should stray from origin. The distance between the current position of the latent vector and the closest point on the max radius, and the distance between the current position of the latent vector and the farthest point on the max radius can be passed through a softmax to determine the probability of which direction to move in. This easily scales to any number of dimensions. \n",
    "\n",
    "Not too sure how the probabilities will work out, can test this empirically. Implementing an example in 1 dimension, where the random walk is used to choose to turn left or turn right on a number line centered at 0:"
   ]
  },
  {
   "cell_type": "code",
   "execution_count": 2,
   "metadata": {},
   "outputs": [],
   "source": [
    "def softmax(x):\n",
    "    \"\"\"\n",
    "    x is a numpy array with shape (N, )\n",
    "    \"\"\"\n",
    "    return np.exp(x) / np.sum(np.exp(x), axis=0)"
   ]
  },
  {
   "cell_type": "code",
   "execution_count": 22,
   "metadata": {},
   "outputs": [],
   "source": [
    "max_dist = 10\n",
    "loc_from_left = []\n",
    "prob_turn_left = []\n",
    "\n",
    "for pos in np.arange(start=-max_dist, stop=max_dist, step=0.1):\n",
    "    # Directly specifiying these points here\n",
    "    # If actually implemented for N-dims, these points can be determined by:\n",
    "    # (1) calculating current dist to origin vector, keep the unit vector\n",
    "    # (2) nearest_dist would be -R + magnitude of distance vector\n",
    "    # (3) farthest_dist would be +R + magnitude of distance vector\n",
    "    # (4) obtain probabilities are obtained from softmax\n",
    "    # (5) apply walk in direction of the selected unit vector\n",
    "    left_dist = pos - (-max_dist)\n",
    "    right_dist = max_dist - pos\n",
    "    dists = np.array([left_dist, right_dist])\n",
    "    probs = softmax(dists)\n",
    "    \n",
    "    loc_from_left.append(pos)\n",
    "    prob_turn_left.append(probs[0])"
   ]
  },
  {
   "cell_type": "code",
   "execution_count": 23,
   "metadata": {},
   "outputs": [
    {
     "data": {
      "image/png": "[encoded data removed]",
      "text/plain": [
       "<Figure size 432x288 with 1 Axes>"
      ]
     },
     "metadata": {
      "needs_background": "light"
     },
     "output_type": "display_data"
    }
   ],
   "source": [
    "plt.scatter(loc_from_left, prob_turn_left)\n",
    "plt.title(\"Probability to turn left as fxn of position\")\n",
    "plt.xlabel(\"Location on number line\")\n",
    "plt.ylabel(\"Probability of turn left\")\n",
    "plt.show()"
   ]
  },
  {
   "cell_type": "markdown",
   "metadata": {},
   "source": [
    "Sigmoid behaviour, 50/50 to turn left or right when at the middle. \n",
    "\n",
    "I don't want the probabilities to vary too much, as that will lead to a random walk that doesn't venture out very far. Hmmm. Another problem is that softmax is impacted by scale, so the probabilities don't actually adjust accordingly to the defined `max_dist`.\n",
    "\n",
    "Dividing the input to softmax by the defined max distance solves both problems. We get inputs to softmax that are always in the range of -1 to 1, allowing us to use any `max_dist`, while also being able to zoom in on the probabilities in the center of the sigmoid."
   ]
  },
  {
   "cell_type": "code",
   "execution_count": 24,
   "metadata": {},
   "outputs": [],
   "source": [
    "max_dist = 200  # upping this number to make sure that the scaling works\n",
    "loc_from_left = []\n",
    "prob_turn_left = []\n",
    "\n",
    "for pos in np.arange(start=-max_dist, stop=max_dist, step=0.1):\n",
    "    # Directly specifiying these points here\n",
    "    # If actually implemented for N-dims, these points can be determined by:\n",
    "    # (1) calculating current dist to origin vector, keep the unit vector\n",
    "    # (2) nearest_dist would be -R + magnitude of distance vector\n",
    "    # (3) farthest_dist would be +R + magnitude of distance vector\n",
    "    # (4) obtain probabilities are obtained from softmax\n",
    "    # (5) apply walk in direction of the selected unit vector\n",
    "    left_dist = (pos - (-max_dist)) / max_dist\n",
    "    right_dist = (max_dist - pos) / max_dist\n",
    "    dists = np.array([left_dist, right_dist])\n",
    "    probs = softmax(dists)\n",
    "    \n",
    "    loc_from_left.append(pos)\n",
    "    prob_turn_left.append(probs[0])"
   ]
  },
  {
   "cell_type": "code",
   "execution_count": 25,
   "metadata": {},
   "outputs": [
    {
     "data": {
      "image/png": "[encoded data removed]",
      "text/plain": [
       "<Figure size 432x288 with 1 Axes>"
      ]
     },
     "metadata": {
      "needs_background": "light"
     },
     "output_type": "display_data"
    }
   ],
   "source": [
    "plt.scatter(loc_from_left, prob_turn_left)\n",
    "plt.title(\"Probability to turn left as fxn of position\")\n",
    "plt.xlabel(\"Location on number line\")\n",
    "plt.ylabel(\"Probability of turn left\")\n",
    "plt.show()"
   ]
  },
  {
   "cell_type": "markdown",
   "metadata": {},
   "source": [
    "It is possible to take this idea further and introduce a relaxation factor, so that it is possible to zoom in to smaller ranges than (-1, 1) for the softmax input. I imagine that some empirical tuning might be required to get the random walk to behave as intended."
   ]
  },
  {
   "cell_type": "code",
   "execution_count": 26,
   "metadata": {},
   "outputs": [],
   "source": [
    "max_dist = 200  # upping this number to make sure that the scaling works\n",
    "relaxation_factor = 2\n",
    "loc_from_left = []\n",
    "prob_turn_left = []\n",
    "\n",
    "for pos in np.arange(start=-max_dist, stop=max_dist, step=0.1):\n",
    "    # Directly specifiying these points here\n",
    "    # If actually implemented for N-dims, these points can be determined by:\n",
    "    # (1) calculating current dist to origin vector, keep the unit vector\n",
    "    # (2) nearest_dist would be -R + magnitude of distance vector\n",
    "    # (3) farthest_dist would be +R + magnitude of distance vector\n",
    "    # (4) obtain probabilities are obtained from softmax\n",
    "    # (5) apply walk in direction of the selected unit vector\n",
    "    left_dist = (pos - (-max_dist)) / (relaxation_factor * max_dist)\n",
    "    right_dist = (max_dist - pos) / (relaxation_factor * max_dist)\n",
    "    dists = np.array([left_dist, right_dist])\n",
    "    probs = softmax(dists)\n",
    "    \n",
    "    loc_from_left.append(pos)\n",
    "    prob_turn_left.append(probs[0])"
   ]
  },
  {
   "cell_type": "code",
   "execution_count": 27,
   "metadata": {},
   "outputs": [
    {
     "data": {
      "image/png": "[encoded data removed]",
      "text/plain": [
       "<Figure size 432x288 with 1 Axes>"
      ]
     },
     "metadata": {
      "needs_background": "light"
     },
     "output_type": "display_data"
    }
   ],
   "source": [
    "plt.scatter(loc_from_left, prob_turn_left)\n",
    "plt.title(\"Probability to turn left as fxn of position\")\n",
    "plt.xlabel(\"Location on number line\")\n",
    "plt.ylabel(\"Probability of turn left\")\n",
    "plt.show()"
   ]
  },
  {
   "cell_type": "markdown",
   "metadata": {},
   "source": [
    "### Implementing 1D weighted random walk"
   ]
  },
  {
   "cell_type": "markdown",
   "metadata": {},
   "source": [
    "Few changes:\n",
    "+ Use max and min cord instead of assuming center at zero\n",
    "+ Implement dist to move as stepsize"
   ]
  },
  {
   "cell_type": "code",
   "execution_count": 56,
   "metadata": {},
   "outputs": [],
   "source": [
    "def walk1d(init_coord, iterations, stepsize, min_coord, max_coord, relaxation_factor):\n",
    "    pos_list = [init_coord]\n",
    "    \n",
    "    for i in range(iterations):\n",
    "        current_pos = pos_list[-1]\n",
    "        \n",
    "        # Calculate probabilities\n",
    "        left_dist = (current_pos - min_coord) / (relaxation_factor * (max_coord - min_coord))\n",
    "        right_dist = (max_coord - current_pos) / (relaxation_factor * (max_coord - min_coord))\n",
    "        dists = np.array([left_dist, right_dist])\n",
    "        probs = softmax(dists)\n",
    "        \n",
    "        # Sample and walk\n",
    "        new_pos = current_pos + np.random.choice([-stepsize, +stepsize], p=probs)\n",
    "        \n",
    "        # Store\n",
    "        pos_list.append(new_pos)\n",
    "    \n",
    "    return pos_list"
   ]
  },
  {
   "cell_type": "code",
   "execution_count": 104,
   "metadata": {},
   "outputs": [],
   "source": [
    "pos_list = walk1d(0, iterations=10000, stepsize=0.1, min_coord=-5, max_coord=+5, relaxation_factor=1)"
   ]
  },
  {
   "cell_type": "code",
   "execution_count": 105,
   "metadata": {},
   "outputs": [
    {
     "data": {
      "text/plain": [
       "[<matplotlib.lines.Line2D at 0x7f5e09a84e20>]"
      ]
     },
     "execution_count": 105,
     "metadata": {},
     "output_type": "execute_result"
    },
    {
     "data": {
      "image/png": "[encoded data removed]",
      "text/plain": [
       "<Figure size 432x288 with 1 Axes>"
      ]
     },
     "metadata": {
      "needs_background": "light"
     },
     "output_type": "display_data"
    }
   ],
   "source": [
    "plt.plot(pos_list)"
   ]
  },
  {
   "cell_type": "markdown",
   "metadata": {},
   "source": [
    "Given the full range of -5 to 5 available, running this a few times show that the random walk indeed has difficulty in breaking out to higher ranges. If the step sizes are made to be small, the random walk stays even closer to zero. Definitely need the relaxation factor."
   ]
  },
  {
   "cell_type": "code",
   "execution_count": 112,
   "metadata": {},
   "outputs": [],
   "source": [
    "pos_list = walk1d(0, iterations=10000, stepsize=0.1, min_coord=-5, max_coord=+5, relaxation_factor=10)"
   ]
  },
  {
   "cell_type": "code",
   "execution_count": 113,
   "metadata": {},
   "outputs": [
    {
     "data": {
      "text/plain": [
       "[<matplotlib.lines.Line2D at 0x7f5e09946f40>]"
      ]
     },
     "execution_count": 113,
     "metadata": {},
     "output_type": "execute_result"
    },
    {
     "data": {
      "image/png": "[encoded data removed]",
      "text/plain": [
       "<Figure size 432x288 with 1 Axes>"
      ]
     },
     "metadata": {
      "needs_background": "light"
     },
     "output_type": "display_data"
    }
   ],
   "source": [
    "plt.plot(pos_list)"
   ]
  },
  {
   "cell_type": "markdown",
   "metadata": {},
   "source": [
    "Comparing with a random walk that has no probability weighting:"
   ]
  },
  {
   "cell_type": "code",
   "execution_count": 114,
   "metadata": {},
   "outputs": [],
   "source": [
    "def walk1d_no_weights(init_coord, iterations, stepsize):\n",
    "    pos_list = [init_coord]\n",
    "    \n",
    "    for i in range(iterations):\n",
    "        current_pos = pos_list[-1]\n",
    "        \n",
    "        # Sample and walk\n",
    "        new_pos = current_pos + np.random.choice([-stepsize, +stepsize], p=[0.5, 0.5])\n",
    "        \n",
    "        # Store\n",
    "        pos_list.append(new_pos)\n",
    "    \n",
    "    return pos_list"
   ]
  },
  {
   "cell_type": "code",
   "execution_count": 124,
   "metadata": {},
   "outputs": [
    {
     "data": {
      "text/plain": [
       "[<matplotlib.lines.Line2D at 0x7f5e09537af0>]"
      ]
     },
     "execution_count": 124,
     "metadata": {},
     "output_type": "execute_result"
    },
    {
     "data": {
      "image/png": "[encoded data removed]",
      "text/plain": [
       "<Figure size 432x288 with 1 Axes>"
      ]
     },
     "metadata": {
      "needs_background": "light"
     },
     "output_type": "display_data"
    }
   ],
   "source": [
    "plt.plot(walk1d_no_weights(0, 10000, 0.1))"
   ]
  },
  {
   "cell_type": "markdown",
   "metadata": {},
   "source": [
    "Yup, wouldn't count on the variance from unweighted random walk."
   ]
  },
  {
   "cell_type": "markdown",
   "metadata": {},
   "source": [
    "### Implementing n-dims weighted random walk"
   ]
  },
  {
   "cell_type": "markdown",
   "metadata": {},
   "source": [
    "Building on this would be to expand to n-dims. Few thoughts:\n",
    "+ Don't want the n-dims to vary together. Each dim should have it's own dice roll, else there is no point having multiple dims when they are all copies of one dim!\n",
    "+ Can batch sample all probabilities in a single go, probably will speed up runtime? Just not too sure how to go about it."
   ]
  },
  {
   "cell_type": "code",
   "execution_count": 245,
   "metadata": {},
   "outputs": [],
   "source": [
    "# Needs to be redefined since it will be receiving 2D input\n",
    "\n",
    "def softmax(x):\n",
    "    \"\"\"\n",
    "    Softmax for arrays with shape (dims, N).\n",
    "    Takes softmax across axis == 1\n",
    "    Probabilities sum to one over axis=1\n",
    "    \n",
    "    Example:\n",
    "    >>> arr = np.array([[2, 5, 2], [1, 5, 1]])\n",
    "    >>> softmax(arr, axis=0)\n",
    "    array([[0.0452785 , 0.01766842],\n",
    "           [0.909443  , 0.96466316],\n",
    "           [0.0452785 , 0.01766842]])\n",
    "    >>> arr.shape\n",
    "    (2, 3)\n",
    "    \"\"\"\n",
    "    return (np.exp(x).T / np.sum(np.exp(x), axis=1)).T"
   ]
  },
  {
   "cell_type": "code",
   "execution_count": 277,
   "metadata": {},
   "outputs": [],
   "source": [
    "def walk_nd(\n",
    "    dims=3, \n",
    "    init_coord=np.array([0, 0, 0]), \n",
    "    iterations=1000, \n",
    "    stepsize=0.01, \n",
    "    min_coord=np.array([-1, -1, -1]), \n",
    "    max_coord=np.array([1, 1, 1]), \n",
    "    relaxation_factor=20\n",
    "):\n",
    "    \"\"\"\n",
    "    Random walker for n-dimensions.\n",
    "    \n",
    "    Input\n",
    "    -----\n",
    "    dims: int\n",
    "    init_coord: iterable\n",
    "    iterations: int\n",
    "    stepsize: int\n",
    "    min_coord: iterable\n",
    "    max_coord: iterable\n",
    "    relaxation_factor: float\n",
    "    \n",
    "    Output\n",
    "    ------\n",
    "    pos_arr: np.ndarray\n",
    "    \"\"\"\n",
    "    # Check to ensure all inputs have the correct dimensions\n",
    "    assert len(init_coord) == dims\n",
    "    assert len(min_coord) == dims\n",
    "    assert len(max_coord) == dims\n",
    "    \n",
    "    # Transform all to numpy array\n",
    "    if not isinstance(init_coord, np.ndarray):\n",
    "        init_coord = np.array(init_coord)\n",
    "        \n",
    "    if not isinstance(min_coord, np.ndarray):\n",
    "        min_coord = np.array(min_coord)\n",
    "        \n",
    "    if not isinstance(max_coord, np.ndarray):\n",
    "        max_coord = np.array(max_coord)\n",
    "    \n",
    "    # Initialize position array\n",
    "    pos_arr = np.zeros(shape=(iterations+1, dims))\n",
    "    pos_arr[0] = init_coord\n",
    "    \n",
    "    # Calculate all probabililties up front??\n",
    "    # sampled_probs = np.random.uniform(low=0, high=1, size=(iterations, dims))\n",
    "    \n",
    "    # Iterate to find the probability thresholds\n",
    "    for i in range(iterations-1):\n",
    "        current_pos = pos_arr[i+1]\n",
    "        new_pos = []\n",
    "        \n",
    "        # Calculate probabilities for each dimension\n",
    "        dist_to_min = (current_pos - min_coord) / (relaxation_factor * (max_coord - min_coord))\n",
    "        dist_to_max = (max_coord - current_pos) / (relaxation_factor * (max_coord - min_coord))\n",
    "        dists = np.stack([dist_to_min, dist_to_max], axis=1) # this has shape (dims, 2)\n",
    "        probs = softmax(dists) # also has shape (dims, 2)\n",
    "\n",
    "        \n",
    "        for j in range(dims):\n",
    "            # Calculate distances\n",
    "            # Sample and walk\n",
    "            new_pos.append(current_pos[j] + np.random.choice([-stepsize, +stepsize], p=probs[j]))\n",
    "                \n",
    "        # Store\n",
    "        pos_arr[i+2] = new_pos\n",
    "    \n",
    "    return pos_arr"
   ]
  },
  {
   "cell_type": "code",
   "execution_count": 270,
   "metadata": {},
   "outputs": [],
   "source": [
    "pos = walk_nd(dims=3, init_coord=[0, 0, 0], iterations=10000, \n",
    "              stepsize=0.01, min_coord=[-1, -1, -1], max_coord=[1, 1, 1], relaxation_factor=20)"
   ]
  },
  {
   "cell_type": "code",
   "execution_count": 271,
   "metadata": {},
   "outputs": [
    {
     "data": {
      "image/png": "[encoded data removed]",
      "text/plain": [
       "<Figure size 432x288 with 1 Axes>"
      ]
     },
     "metadata": {
      "needs_background": "light"
     },
     "output_type": "display_data"
    },
    {
     "data": {
      "image/png": "[encoded data removed]",
      "text/plain": [
       "<Figure size 432x288 with 1 Axes>"
      ]
     },
     "metadata": {
      "needs_background": "light"
     },
     "output_type": "display_data"
    }
   ],
   "source": [
    "plt.scatter(pos[:, 0], [pos[:, 1]])\n",
    "plt.show()\n",
    "plt.scatter(pos[:, 0], [pos[:, 2]])\n",
    "plt.show()"
   ]
  },
  {
   "cell_type": "markdown",
   "metadata": {},
   "source": [
    "Yup this is good enough."
   ]
  },
  {
   "cell_type": "markdown",
   "metadata": {},
   "source": [
    "## Code from previous notebook with added polish"
   ]
  },
  {
   "cell_type": "code",
   "execution_count": 274,
   "metadata": {},
   "outputs": [],
   "source": [
    "class Net(nn.Module):\n",
    "    \"\"\"\n",
    "    Describes a generative CPPN that takes `x`, `y`, and optionally distance to origin as input,\n",
    "    and outputs 3-channel / 1-channel pixel intensity.\n",
    "    \"\"\"\n",
    "\n",
    "    def __init__(\n",
    "        self,\n",
    "        num_hidden_layers=4,\n",
    "        num_neurons=8,\n",
    "        latent_len=3,\n",
    "        include_bias=True,\n",
    "        include_dist_to_origin=True,\n",
    "        rgb=True,\n",
    "    ):\n",
    "        \"\"\"\n",
    "        Initializes the CPPN.\n",
    "\n",
    "        Inputs\n",
    "        ------\n",
    "        num_hidden_layers: int\n",
    "            Number of hidden layers in the network.\n",
    "\n",
    "        num_neurons: int\n",
    "            Number of neurons in each hidden layer.\n",
    "\n",
    "        latent_len: int\n",
    "            Length of latent vector\n",
    "\n",
    "        include_bias: bool\n",
    "            If True, includes bias term in input layer.\n",
    "\n",
    "        include_dist_to_origin: bool\n",
    "            If True, includes distance to origin as one of the inputs.\n",
    "\n",
    "        rgb: bool\n",
    "            If True, produces 3-channel output. Else, produces 1-channel output.\n",
    "\n",
    "        Output\n",
    "        ------\n",
    "        None\n",
    "        \"\"\"\n",
    "        super(Net, self).__init__()\n",
    "\n",
    "        # Input layer\n",
    "        if include_dist_to_origin:\n",
    "            layers = [\n",
    "                nn.Linear(3 + latent_len, num_neurons, bias=include_bias),\n",
    "                nn.Tanh(),\n",
    "            ]\n",
    "        else:\n",
    "            layers = [\n",
    "                nn.Linear(2 + latent_len, num_neurons, bias=include_bias),\n",
    "                nn.Tanh(),\n",
    "            ]\n",
    "\n",
    "        # Hidden layers\n",
    "        layers.extend(\n",
    "            num_hidden_layers\n",
    "            * [\n",
    "                nn.Linear(num_neurons, num_neurons, bias=False),\n",
    "                nn.Tanh(),\n",
    "            ]\n",
    "        )\n",
    "\n",
    "        # Output layer\n",
    "        if rgb:\n",
    "            layers.extend([nn.Linear(num_neurons, 3, bias=False), nn.Sigmoid()])\n",
    "        else:\n",
    "            layers.extend([nn.Linear(num_neurons, 1, bias=False), nn.Sigmoid()])\n",
    "\n",
    "        # Assign layers to self.layers\n",
    "        self.layers = nn.Sequential(*layers)\n",
    "\n",
    "        # Run weight init\n",
    "        self.init_weights()\n",
    "\n",
    "    def forward(self, loc_vec, latent_vec):\n",
    "        \"\"\"\n",
    "        `forward` function for the generative network.\n",
    "\n",
    "        Input\n",
    "        -----\n",
    "        loc_vec, latent_vec: torch.Tensor\n",
    "            Location vector and latent vector.\n",
    "            Location vector should have shape (N, 2) or shape (N, 3).\n",
    "            Latent vector should have shape (N, `latent_len`)\n",
    "\n",
    "        Output\n",
    "        ------\n",
    "        x: torch.Tensor\n",
    "        \"\"\"\n",
    "        x = torch.cat([loc_vec, latent_vec], dim=1)\n",
    "        x = self.layers(x)\n",
    "        return x\n",
    "\n",
    "    def _init_weights(self, m):\n",
    "        \"\"\"\n",
    "        Function to apply to the generative network (literally with `Net.apply()`) to initialize\n",
    "        network weights properly. Required as the default initialization is for deep learning\n",
    "        training, while we're only interested in starting all layers with a normal distribution.\n",
    "\n",
    "        Ref: https://stackoverflow.com/questions/49433936/how-to-initialize-weights-in-pytorch\n",
    "\n",
    "        Input\n",
    "        -----\n",
    "        m: nn.Modules (I think)\n",
    "\n",
    "        Output\n",
    "        ------\n",
    "        None\n",
    "        \"\"\"\n",
    "        if type(m) == nn.Linear:\n",
    "            nn.init.normal_(m.weight, mean=0, std=1)\n",
    "\n",
    "    def init_weights(self):\n",
    "        \"\"\"\n",
    "        Initializes the weights of the network.\n",
    "\n",
    "        Input\n",
    "        -----\n",
    "        None\n",
    "\n",
    "        Output\n",
    "        ------\n",
    "        None\n",
    "        \"\"\"\n",
    "        self.apply(self._init_weights)"
   ]
  },
  {
   "cell_type": "code",
   "execution_count": 275,
   "metadata": {},
   "outputs": [],
   "source": [
    "def create_input(img_width, img_height, include_dist_to_origin=True):\n",
    "    \"\"\"\n",
    "    Creates the input for the generative net.\n",
    "\n",
    "    Input\n",
    "    -----\n",
    "    img_width, img_height: int\n",
    "    include_dist_to_origin: bool\n",
    "\n",
    "    Output\n",
    "    ------\n",
    "    input_arr: np.ndarray\n",
    "        Should have shape (img_width * img_height, 2)\n",
    "    \"\"\"\n",
    "    # Create vectors of xs and ys\n",
    "    xs = np.linspace(start=-1, stop=1, num=img_width)\n",
    "    ys = np.linspace(start=-1, stop=1, num=img_height)\n",
    "\n",
    "    # Use np.meshgrid to create a mesh grid\n",
    "    xv, yv = np.meshgrid(xs, ys)\n",
    "    input_arr = np.stack((xv, yv), axis=2)\n",
    "\n",
    "    if include_dist_to_origin:\n",
    "        dist_to_origin = np.sum(np.square(input_arr), axis=2, keepdims=True)\n",
    "        input_arr = np.concatenate([input_arr, dist_to_origin], axis=2)\n",
    "        input_arr = input_arr.reshape(img_width * img_height, 3)\n",
    "    else:\n",
    "        input_arr = input_arr.reshape(img_width * img_height, 2)\n",
    "\n",
    "    return input_arr\n"
   ]
  },
  {
   "cell_type": "code",
   "execution_count": 276,
   "metadata": {},
   "outputs": [],
   "source": [
    "def generate_one_art(\n",
    "    net, latent_vec, input_config={\"img_width\": 320, \"img_height\": 320}\n",
    "):\n",
    "    \"\"\"\n",
    "    Wrapper function to generate a single image output from the given network.\n",
    "\n",
    "    Input\n",
    "    -----\n",
    "    net: Net\n",
    "    latent_vec: torch.Tensor\n",
    "    input_config: dict\n",
    "        Dict of parameters to be passed to `create_input` as kwargs.\n",
    "\n",
    "    Output\n",
    "    ------\n",
    "    net_output: np.ndarray\n",
    "        Should have shape (y, x, 3) or (y, x, 1)\n",
    "    \"\"\"\n",
    "    # Create input to net, and convert from ndarray to torch.FloatTensor\n",
    "    net_input = torch.tensor(create_input(**input_config)).float()\n",
    "\n",
    "    # Create input array from latent_vec, and convert from ndarray to torch.FloatTensor\n",
    "    latent_vec = np.expand_dims(latent_vec, axis=0)\n",
    "    latent_vec = np.repeat(latent_vec, repeats=net_input.shape[0], axis=0)\n",
    "    latent_vec = torch.tensor(latent_vec).float()\n",
    "\n",
    "    assert net_input.shape == latent_vec.shape\n",
    "\n",
    "    # Run input through net\n",
    "    net_output = net(net_input, latent_vec).detach().numpy()\n",
    "\n",
    "    # Reshape into (y, x, 3) for plotting in PIL\n",
    "    net_output = net_output.reshape(\n",
    "        input_config[\"img_height\"], input_config[\"img_width\"], -1\n",
    "    )\n",
    "\n",
    "    # Re-format to color output\n",
    "    # Scale to range 0 to 255, and set type to int\n",
    "    net_output = (net_output * 255).astype(np.uint8)\n",
    "    return net_output"
   ]
  },
  {
   "cell_type": "markdown",
   "metadata": {},
   "source": [
    "## Explore latent space with random walk"
   ]
  },
  {
   "cell_type": "code",
   "execution_count": 315,
   "metadata": {},
   "outputs": [
    {
     "name": "stderr",
     "output_type": "stream",
     "text": [
      "100%|██████████| 120/120 [00:39<00:00,  3.05it/s]\n"
     ]
    }
   ],
   "source": [
    "total_seconds = 5\n",
    "fps = 24\n",
    "iterations = total_seconds * fps\n",
    "\n",
    "latent_arr = walk_nd(iterations=iterations, stepsize=0.1, relaxation_factor=100)\n",
    "net = Net(num_hidden_layers=2, num_neurons=64)\n",
    "\n",
    "imgs = []\n",
    "\n",
    "for i in tqdm(range(iterations)):\n",
    "    out = generate_one_art(net, latent_vec=latent_arr[i], input_config={\"img_width\": 640, \"img_height\": 320})\n",
    "    imgs.append(out)"
   ]
  },
  {
   "cell_type": "markdown",
   "metadata": {},
   "source": [
    "Save to video:"
   ]
  },
  {
   "cell_type": "code",
   "execution_count": 316,
   "metadata": {},
   "outputs": [],
   "source": [
    "video = cv2.VideoWriter(\"../output/rwalk-latent-space.avi\", cv2.VideoWriter_fourcc(*'XVID'), 24, (640, 320))\n",
    "for image in imgs:\n",
    "    video.write(image)"
   ]
  },
  {
   "cell_type": "markdown",
   "metadata": {},
   "source": [
    "By hindsight, using random walk to explore the latent space wasn't a particularly good idea. Yes, it covers the latent space well, but the irregular behaviour makes the viewing experience spasmodic rather than elegant. A smooth trajectory in the latent space is much preferred. To work on this more."
   ]
  }
 ],
 "metadata": {
  "kernelspec": {
   "display_name": "Python [conda env:nn-gen-art]",
   "language": "python",
   "name": "conda-env-nn-gen-art-py"
  },
  "language_info": {
   "codemirror_mode": {
    "name": "ipython",
    "version": 3
   },
   "file_extension": ".py",
   "mimetype": "text/x-python",
   "name": "python",
   "nbconvert_exporter": "python",
   "pygments_lexer": "ipython3",
   "version": "3.8.5"
  },
  "widgets": {
   "application/vnd.jupyter.widget-state+json": {
    "state": {},
    "version_major": 2,
    "version_minor": 0
   }
  }
 },
 "nbformat": 4,
 "nbformat_minor": 4
}
